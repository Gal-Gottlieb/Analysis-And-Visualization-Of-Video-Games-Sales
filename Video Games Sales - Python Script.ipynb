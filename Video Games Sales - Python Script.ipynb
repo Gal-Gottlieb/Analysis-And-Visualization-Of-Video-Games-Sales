{
 "cells": [
  {
   "cell_type": "code",
   "execution_count": 1,
   "metadata": {},
   "outputs": [],
   "source": [
    "# Importing relevant libraries for the data cleaning and exploration process.\n",
    "\n",
    "import pandas as pd\n",
    "import numpy as np\n",
    "import seaborn as sns\n",
    "import matplotlib.pyplot as plt\n",
    "%matplotlib inline"
   ]
  },
  {
   "cell_type": "code",
   "execution_count": 2,
   "metadata": {},
   "outputs": [],
   "source": [
    "# Setting style for the plots.\n",
    "\n",
    "plt.style.use('ggplot')"
   ]
  },
  {
   "cell_type": "code",
   "execution_count": 3,
   "metadata": {},
   "outputs": [],
   "source": [
    "# Creating a table based on the CSV file \"Video_Games_Sales_as_at_22_Dec_2016\".\n",
    "\n",
    "df = pd.read_csv('Video_Games_Sales_as_at_22_Dec_2016.csv')"
   ]
  },
  {
   "cell_type": "markdown",
   "metadata": {},
   "source": [
    "# Light Data Exploration"
   ]
  },
  {
   "cell_type": "code",
   "execution_count": 4,
   "metadata": {},
   "outputs": [
    {
     "data": {
      "text/html": [
       "<div>\n",
       "<style scoped>\n",
       "    .dataframe tbody tr th:only-of-type {\n",
       "        vertical-align: middle;\n",
       "    }\n",
       "\n",
       "    .dataframe tbody tr th {\n",
       "        vertical-align: top;\n",
       "    }\n",
       "\n",
       "    .dataframe thead th {\n",
       "        text-align: right;\n",
       "    }\n",
       "</style>\n",
       "<table border=\"1\" class=\"dataframe\">\n",
       "  <thead>\n",
       "    <tr style=\"text-align: right;\">\n",
       "      <th></th>\n",
       "      <th>Name</th>\n",
       "      <th>Platform</th>\n",
       "      <th>Year_of_Release</th>\n",
       "      <th>Genre</th>\n",
       "      <th>Publisher</th>\n",
       "      <th>NA_Sales</th>\n",
       "      <th>EU_Sales</th>\n",
       "      <th>JP_Sales</th>\n",
       "      <th>Other_Sales</th>\n",
       "      <th>Global_Sales</th>\n",
       "      <th>Critic_Score</th>\n",
       "      <th>Critic_Count</th>\n",
       "      <th>User_Score</th>\n",
       "      <th>User_Count</th>\n",
       "      <th>Developer</th>\n",
       "      <th>Rating</th>\n",
       "    </tr>\n",
       "  </thead>\n",
       "  <tbody>\n",
       "    <tr>\n",
       "      <td>0</td>\n",
       "      <td>Wii Sports</td>\n",
       "      <td>Wii</td>\n",
       "      <td>2006.0</td>\n",
       "      <td>Sports</td>\n",
       "      <td>Nintendo</td>\n",
       "      <td>41.36</td>\n",
       "      <td>28.96</td>\n",
       "      <td>3.77</td>\n",
       "      <td>8.45</td>\n",
       "      <td>82.53</td>\n",
       "      <td>76.0</td>\n",
       "      <td>51.0</td>\n",
       "      <td>8.0</td>\n",
       "      <td>322.0</td>\n",
       "      <td>Nintendo</td>\n",
       "      <td>E</td>\n",
       "    </tr>\n",
       "    <tr>\n",
       "      <td>1</td>\n",
       "      <td>Super Mario Bros.</td>\n",
       "      <td>NES</td>\n",
       "      <td>1985.0</td>\n",
       "      <td>Platform</td>\n",
       "      <td>Nintendo</td>\n",
       "      <td>29.08</td>\n",
       "      <td>3.58</td>\n",
       "      <td>6.81</td>\n",
       "      <td>0.77</td>\n",
       "      <td>40.24</td>\n",
       "      <td>NaN</td>\n",
       "      <td>NaN</td>\n",
       "      <td>NaN</td>\n",
       "      <td>NaN</td>\n",
       "      <td>NaN</td>\n",
       "      <td>NaN</td>\n",
       "    </tr>\n",
       "    <tr>\n",
       "      <td>2</td>\n",
       "      <td>Mario Kart Wii</td>\n",
       "      <td>Wii</td>\n",
       "      <td>2008.0</td>\n",
       "      <td>Racing</td>\n",
       "      <td>Nintendo</td>\n",
       "      <td>15.68</td>\n",
       "      <td>12.76</td>\n",
       "      <td>3.79</td>\n",
       "      <td>3.29</td>\n",
       "      <td>35.52</td>\n",
       "      <td>82.0</td>\n",
       "      <td>73.0</td>\n",
       "      <td>8.3</td>\n",
       "      <td>709.0</td>\n",
       "      <td>Nintendo</td>\n",
       "      <td>E</td>\n",
       "    </tr>\n",
       "    <tr>\n",
       "      <td>3</td>\n",
       "      <td>Wii Sports Resort</td>\n",
       "      <td>Wii</td>\n",
       "      <td>2009.0</td>\n",
       "      <td>Sports</td>\n",
       "      <td>Nintendo</td>\n",
       "      <td>15.61</td>\n",
       "      <td>10.93</td>\n",
       "      <td>3.28</td>\n",
       "      <td>2.95</td>\n",
       "      <td>32.77</td>\n",
       "      <td>80.0</td>\n",
       "      <td>73.0</td>\n",
       "      <td>8.0</td>\n",
       "      <td>192.0</td>\n",
       "      <td>Nintendo</td>\n",
       "      <td>E</td>\n",
       "    </tr>\n",
       "    <tr>\n",
       "      <td>4</td>\n",
       "      <td>Pokemon Red/Pokemon Blue</td>\n",
       "      <td>GB</td>\n",
       "      <td>1996.0</td>\n",
       "      <td>Role-Playing</td>\n",
       "      <td>Nintendo</td>\n",
       "      <td>11.27</td>\n",
       "      <td>8.89</td>\n",
       "      <td>10.22</td>\n",
       "      <td>1.00</td>\n",
       "      <td>31.37</td>\n",
       "      <td>NaN</td>\n",
       "      <td>NaN</td>\n",
       "      <td>NaN</td>\n",
       "      <td>NaN</td>\n",
       "      <td>NaN</td>\n",
       "      <td>NaN</td>\n",
       "    </tr>\n",
       "  </tbody>\n",
       "</table>\n",
       "</div>"
      ],
      "text/plain": [
       "                       Name Platform  Year_of_Release         Genre Publisher  \\\n",
       "0                Wii Sports      Wii           2006.0        Sports  Nintendo   \n",
       "1         Super Mario Bros.      NES           1985.0      Platform  Nintendo   \n",
       "2            Mario Kart Wii      Wii           2008.0        Racing  Nintendo   \n",
       "3         Wii Sports Resort      Wii           2009.0        Sports  Nintendo   \n",
       "4  Pokemon Red/Pokemon Blue       GB           1996.0  Role-Playing  Nintendo   \n",
       "\n",
       "   NA_Sales  EU_Sales  JP_Sales  Other_Sales  Global_Sales  Critic_Score  \\\n",
       "0     41.36     28.96      3.77         8.45         82.53          76.0   \n",
       "1     29.08      3.58      6.81         0.77         40.24           NaN   \n",
       "2     15.68     12.76      3.79         3.29         35.52          82.0   \n",
       "3     15.61     10.93      3.28         2.95         32.77          80.0   \n",
       "4     11.27      8.89     10.22         1.00         31.37           NaN   \n",
       "\n",
       "   Critic_Count  User_Score  User_Count Developer Rating  \n",
       "0          51.0         8.0       322.0  Nintendo      E  \n",
       "1           NaN         NaN         NaN       NaN    NaN  \n",
       "2          73.0         8.3       709.0  Nintendo      E  \n",
       "3          73.0         8.0       192.0  Nintendo      E  \n",
       "4           NaN         NaN         NaN       NaN    NaN  "
      ]
     },
     "execution_count": 4,
     "metadata": {},
     "output_type": "execute_result"
    }
   ],
   "source": [
    "df.head()"
   ]
  },
  {
   "cell_type": "code",
   "execution_count": 5,
   "metadata": {},
   "outputs": [
    {
     "data": {
      "text/html": [
       "<div>\n",
       "<style scoped>\n",
       "    .dataframe tbody tr th:only-of-type {\n",
       "        vertical-align: middle;\n",
       "    }\n",
       "\n",
       "    .dataframe tbody tr th {\n",
       "        vertical-align: top;\n",
       "    }\n",
       "\n",
       "    .dataframe thead th {\n",
       "        text-align: right;\n",
       "    }\n",
       "</style>\n",
       "<table border=\"1\" class=\"dataframe\">\n",
       "  <thead>\n",
       "    <tr style=\"text-align: right;\">\n",
       "      <th></th>\n",
       "      <th>Year_of_Release</th>\n",
       "      <th>NA_Sales</th>\n",
       "      <th>EU_Sales</th>\n",
       "      <th>JP_Sales</th>\n",
       "      <th>Other_Sales</th>\n",
       "      <th>Global_Sales</th>\n",
       "      <th>Critic_Score</th>\n",
       "      <th>Critic_Count</th>\n",
       "      <th>User_Score</th>\n",
       "      <th>User_Count</th>\n",
       "    </tr>\n",
       "  </thead>\n",
       "  <tbody>\n",
       "    <tr>\n",
       "      <td>count</td>\n",
       "      <td>16450.000000</td>\n",
       "      <td>16719.000000</td>\n",
       "      <td>16719.000000</td>\n",
       "      <td>16719.000000</td>\n",
       "      <td>16719.000000</td>\n",
       "      <td>16719.000000</td>\n",
       "      <td>8137.000000</td>\n",
       "      <td>8137.000000</td>\n",
       "      <td>7590.000000</td>\n",
       "      <td>7590.000000</td>\n",
       "    </tr>\n",
       "    <tr>\n",
       "      <td>mean</td>\n",
       "      <td>2006.487356</td>\n",
       "      <td>0.263330</td>\n",
       "      <td>0.145025</td>\n",
       "      <td>0.077602</td>\n",
       "      <td>0.047332</td>\n",
       "      <td>0.533543</td>\n",
       "      <td>68.967679</td>\n",
       "      <td>26.360821</td>\n",
       "      <td>7.125046</td>\n",
       "      <td>162.229908</td>\n",
       "    </tr>\n",
       "    <tr>\n",
       "      <td>std</td>\n",
       "      <td>5.878995</td>\n",
       "      <td>0.813514</td>\n",
       "      <td>0.503283</td>\n",
       "      <td>0.308818</td>\n",
       "      <td>0.186710</td>\n",
       "      <td>1.547935</td>\n",
       "      <td>13.938165</td>\n",
       "      <td>18.980495</td>\n",
       "      <td>1.500006</td>\n",
       "      <td>561.282326</td>\n",
       "    </tr>\n",
       "    <tr>\n",
       "      <td>min</td>\n",
       "      <td>1980.000000</td>\n",
       "      <td>0.000000</td>\n",
       "      <td>0.000000</td>\n",
       "      <td>0.000000</td>\n",
       "      <td>0.000000</td>\n",
       "      <td>0.010000</td>\n",
       "      <td>13.000000</td>\n",
       "      <td>3.000000</td>\n",
       "      <td>0.000000</td>\n",
       "      <td>4.000000</td>\n",
       "    </tr>\n",
       "    <tr>\n",
       "      <td>25%</td>\n",
       "      <td>2003.000000</td>\n",
       "      <td>0.000000</td>\n",
       "      <td>0.000000</td>\n",
       "      <td>0.000000</td>\n",
       "      <td>0.000000</td>\n",
       "      <td>0.060000</td>\n",
       "      <td>60.000000</td>\n",
       "      <td>12.000000</td>\n",
       "      <td>6.400000</td>\n",
       "      <td>10.000000</td>\n",
       "    </tr>\n",
       "    <tr>\n",
       "      <td>50%</td>\n",
       "      <td>2007.000000</td>\n",
       "      <td>0.080000</td>\n",
       "      <td>0.020000</td>\n",
       "      <td>0.000000</td>\n",
       "      <td>0.010000</td>\n",
       "      <td>0.170000</td>\n",
       "      <td>71.000000</td>\n",
       "      <td>21.000000</td>\n",
       "      <td>7.500000</td>\n",
       "      <td>24.000000</td>\n",
       "    </tr>\n",
       "    <tr>\n",
       "      <td>75%</td>\n",
       "      <td>2010.000000</td>\n",
       "      <td>0.240000</td>\n",
       "      <td>0.110000</td>\n",
       "      <td>0.040000</td>\n",
       "      <td>0.030000</td>\n",
       "      <td>0.470000</td>\n",
       "      <td>79.000000</td>\n",
       "      <td>36.000000</td>\n",
       "      <td>8.200000</td>\n",
       "      <td>81.000000</td>\n",
       "    </tr>\n",
       "    <tr>\n",
       "      <td>max</td>\n",
       "      <td>2020.000000</td>\n",
       "      <td>41.360000</td>\n",
       "      <td>28.960000</td>\n",
       "      <td>10.220000</td>\n",
       "      <td>10.570000</td>\n",
       "      <td>82.530000</td>\n",
       "      <td>98.000000</td>\n",
       "      <td>113.000000</td>\n",
       "      <td>9.700000</td>\n",
       "      <td>10665.000000</td>\n",
       "    </tr>\n",
       "  </tbody>\n",
       "</table>\n",
       "</div>"
      ],
      "text/plain": [
       "       Year_of_Release      NA_Sales      EU_Sales      JP_Sales  \\\n",
       "count     16450.000000  16719.000000  16719.000000  16719.000000   \n",
       "mean       2006.487356      0.263330      0.145025      0.077602   \n",
       "std           5.878995      0.813514      0.503283      0.308818   \n",
       "min        1980.000000      0.000000      0.000000      0.000000   \n",
       "25%        2003.000000      0.000000      0.000000      0.000000   \n",
       "50%        2007.000000      0.080000      0.020000      0.000000   \n",
       "75%        2010.000000      0.240000      0.110000      0.040000   \n",
       "max        2020.000000     41.360000     28.960000     10.220000   \n",
       "\n",
       "        Other_Sales  Global_Sales  Critic_Score  Critic_Count   User_Score  \\\n",
       "count  16719.000000  16719.000000   8137.000000   8137.000000  7590.000000   \n",
       "mean       0.047332      0.533543     68.967679     26.360821     7.125046   \n",
       "std        0.186710      1.547935     13.938165     18.980495     1.500006   \n",
       "min        0.000000      0.010000     13.000000      3.000000     0.000000   \n",
       "25%        0.000000      0.060000     60.000000     12.000000     6.400000   \n",
       "50%        0.010000      0.170000     71.000000     21.000000     7.500000   \n",
       "75%        0.030000      0.470000     79.000000     36.000000     8.200000   \n",
       "max       10.570000     82.530000     98.000000    113.000000     9.700000   \n",
       "\n",
       "         User_Count  \n",
       "count   7590.000000  \n",
       "mean     162.229908  \n",
       "std      561.282326  \n",
       "min        4.000000  \n",
       "25%       10.000000  \n",
       "50%       24.000000  \n",
       "75%       81.000000  \n",
       "max    10665.000000  "
      ]
     },
     "execution_count": 5,
     "metadata": {},
     "output_type": "execute_result"
    }
   ],
   "source": [
    "df.describe()"
   ]
  },
  {
   "cell_type": "code",
   "execution_count": 6,
   "metadata": {},
   "outputs": [
    {
     "name": "stdout",
     "output_type": "stream",
     "text": [
      "Columns Names:\n",
      "________________\n",
      "\n",
      "Name\n",
      "Platform\n",
      "Year_of_Release\n",
      "Genre\n",
      "Publisher\n",
      "NA_Sales\n",
      "EU_Sales\n",
      "JP_Sales\n",
      "Other_Sales\n",
      "Global_Sales\n",
      "Critic_Score\n",
      "Critic_Count\n",
      "User_Score\n",
      "User_Count\n",
      "Developer\n",
      "Rating\n"
     ]
    }
   ],
   "source": [
    "print('Columns Names:')\n",
    "print('________________')\n",
    "print()\n",
    "\n",
    "for column in df.columns:\n",
    "    print(column)"
   ]
  },
  {
   "cell_type": "code",
   "execution_count": 7,
   "metadata": {},
   "outputs": [
    {
     "name": "stdout",
     "output_type": "stream",
     "text": [
      "Number of rows and values in the DataFrame:  (16719, 16)\n"
     ]
    }
   ],
   "source": [
    "print('Number of rows and values in the DataFrame: ',df.shape)"
   ]
  },
  {
   "cell_type": "code",
   "execution_count": 8,
   "metadata": {},
   "outputs": [
    {
     "name": "stdout",
     "output_type": "stream",
     "text": [
      "Column          | Data Type:\n",
      "________________ __________\n",
      "Name                object\n",
      "Platform            object\n",
      "Year_of_Release    float64\n",
      "Genre               object\n",
      "Publisher           object\n",
      "NA_Sales           float64\n",
      "EU_Sales           float64\n",
      "JP_Sales           float64\n",
      "Other_Sales        float64\n",
      "Global_Sales       float64\n",
      "Critic_Score       float64\n",
      "Critic_Count       float64\n",
      "User_Score         float64\n",
      "User_Count         float64\n",
      "Developer           object\n",
      "Rating              object\n",
      "dtype: object\n"
     ]
    }
   ],
   "source": [
    "print('Column          | Data Type:')\n",
    "print('________________','__________')\n",
    "\n",
    "print(df.dtypes)"
   ]
  },
  {
   "cell_type": "markdown",
   "metadata": {},
   "source": [
    "# Data Cleaning And Preperation"
   ]
  },
  {
   "cell_type": "code",
   "execution_count": 9,
   "metadata": {},
   "outputs": [
    {
     "name": "stdout",
     "output_type": "stream",
     "text": [
      "column's name | No. of Null values\n",
      "__________________________________\n",
      "\n",
      "Name 2\n",
      "Platform 0\n",
      "Year_of_Release 269\n",
      "Genre 2\n",
      "Publisher 54\n",
      "NA_Sales 0\n",
      "EU_Sales 0\n",
      "JP_Sales 0\n",
      "Other_Sales 0\n",
      "Global_Sales 0\n",
      "Critic_Score 8582\n",
      "Critic_Count 8582\n",
      "User_Score 9129\n",
      "User_Count 9129\n",
      "Developer 6623\n",
      "Rating 6769\n"
     ]
    }
   ],
   "source": [
    "print(\"column's name | No. of Null values\")\n",
    "print('__________________________________')\n",
    "print()\n",
    "\n",
    "for column in df:\n",
    "    print(column,sum(df[column].isnull()))"
   ]
  },
  {
   "cell_type": "code",
   "execution_count": 10,
   "metadata": {},
   "outputs": [
    {
     "data": {
      "text/html": [
       "<div>\n",
       "<style scoped>\n",
       "    .dataframe tbody tr th:only-of-type {\n",
       "        vertical-align: middle;\n",
       "    }\n",
       "\n",
       "    .dataframe tbody tr th {\n",
       "        vertical-align: top;\n",
       "    }\n",
       "\n",
       "    .dataframe thead th {\n",
       "        text-align: right;\n",
       "    }\n",
       "</style>\n",
       "<table border=\"1\" class=\"dataframe\">\n",
       "  <thead>\n",
       "    <tr style=\"text-align: right;\">\n",
       "      <th></th>\n",
       "      <th>Name</th>\n",
       "      <th>Platform</th>\n",
       "      <th>Year_of_Release</th>\n",
       "      <th>Genre</th>\n",
       "      <th>Publisher</th>\n",
       "      <th>NA_Sales</th>\n",
       "      <th>EU_Sales</th>\n",
       "      <th>JP_Sales</th>\n",
       "      <th>Other_Sales</th>\n",
       "      <th>Global_Sales</th>\n",
       "      <th>Critic_Score</th>\n",
       "      <th>Critic_Count</th>\n",
       "      <th>User_Score</th>\n",
       "      <th>User_Count</th>\n",
       "      <th>Developer</th>\n",
       "      <th>Rating</th>\n",
       "    </tr>\n",
       "  </thead>\n",
       "  <tbody>\n",
       "    <tr>\n",
       "      <td>659</td>\n",
       "      <td>NaN</td>\n",
       "      <td>GEN</td>\n",
       "      <td>1993.0</td>\n",
       "      <td>NaN</td>\n",
       "      <td>Acclaim Entertainment</td>\n",
       "      <td>1.78</td>\n",
       "      <td>0.53</td>\n",
       "      <td>0.00</td>\n",
       "      <td>0.08</td>\n",
       "      <td>2.39</td>\n",
       "      <td>NaN</td>\n",
       "      <td>NaN</td>\n",
       "      <td>NaN</td>\n",
       "      <td>NaN</td>\n",
       "      <td>NaN</td>\n",
       "      <td>NaN</td>\n",
       "    </tr>\n",
       "    <tr>\n",
       "      <td>14246</td>\n",
       "      <td>NaN</td>\n",
       "      <td>GEN</td>\n",
       "      <td>1993.0</td>\n",
       "      <td>NaN</td>\n",
       "      <td>Acclaim Entertainment</td>\n",
       "      <td>0.00</td>\n",
       "      <td>0.00</td>\n",
       "      <td>0.03</td>\n",
       "      <td>0.00</td>\n",
       "      <td>0.03</td>\n",
       "      <td>NaN</td>\n",
       "      <td>NaN</td>\n",
       "      <td>NaN</td>\n",
       "      <td>NaN</td>\n",
       "      <td>NaN</td>\n",
       "      <td>NaN</td>\n",
       "    </tr>\n",
       "  </tbody>\n",
       "</table>\n",
       "</div>"
      ],
      "text/plain": [
       "      Name Platform  Year_of_Release Genre              Publisher  NA_Sales  \\\n",
       "659    NaN      GEN           1993.0   NaN  Acclaim Entertainment      1.78   \n",
       "14246  NaN      GEN           1993.0   NaN  Acclaim Entertainment      0.00   \n",
       "\n",
       "       EU_Sales  JP_Sales  Other_Sales  Global_Sales  Critic_Score  \\\n",
       "659        0.53      0.00         0.08          2.39           NaN   \n",
       "14246      0.00      0.03         0.00          0.03           NaN   \n",
       "\n",
       "       Critic_Count  User_Score  User_Count Developer Rating  \n",
       "659             NaN         NaN         NaN       NaN    NaN  \n",
       "14246           NaN         NaN         NaN       NaN    NaN  "
      ]
     },
     "execution_count": 10,
     "metadata": {},
     "output_type": "execute_result"
    }
   ],
   "source": [
    "# Checking for the presence of Null values in the Genre and name columns\n",
    "\n",
    "df[(df['Name'].isnull()) | (df['Genre'].isnull())]"
   ]
  },
  {
   "cell_type": "code",
   "execution_count": 11,
   "metadata": {},
   "outputs": [],
   "source": [
    "# Dropping rows with Null values in Genre and name columns\n",
    "\n",
    "df.drop(df.loc[(df['Name'].isnull()) | (df['Genre'].isnull())].index, inplace=True)"
   ]
  },
  {
   "cell_type": "code",
   "execution_count": 12,
   "metadata": {},
   "outputs": [
    {
     "data": {
      "text/html": [
       "<div>\n",
       "<style scoped>\n",
       "    .dataframe tbody tr th:only-of-type {\n",
       "        vertical-align: middle;\n",
       "    }\n",
       "\n",
       "    .dataframe tbody tr th {\n",
       "        vertical-align: top;\n",
       "    }\n",
       "\n",
       "    .dataframe thead th {\n",
       "        text-align: right;\n",
       "    }\n",
       "</style>\n",
       "<table border=\"1\" class=\"dataframe\">\n",
       "  <thead>\n",
       "    <tr style=\"text-align: right;\">\n",
       "      <th></th>\n",
       "      <th>Name</th>\n",
       "      <th>Platform</th>\n",
       "      <th>Year_of_Release</th>\n",
       "      <th>Genre</th>\n",
       "      <th>Publisher</th>\n",
       "      <th>NA_Sales</th>\n",
       "      <th>EU_Sales</th>\n",
       "      <th>JP_Sales</th>\n",
       "      <th>Other_Sales</th>\n",
       "      <th>Global_Sales</th>\n",
       "      <th>Critic_Score</th>\n",
       "      <th>Critic_Count</th>\n",
       "      <th>User_Score</th>\n",
       "      <th>User_Count</th>\n",
       "      <th>Developer</th>\n",
       "      <th>Rating</th>\n",
       "    </tr>\n",
       "  </thead>\n",
       "  <tbody>\n",
       "  </tbody>\n",
       "</table>\n",
       "</div>"
      ],
      "text/plain": [
       "Empty DataFrame\n",
       "Columns: [Name, Platform, Year_of_Release, Genre, Publisher, NA_Sales, EU_Sales, JP_Sales, Other_Sales, Global_Sales, Critic_Score, Critic_Count, User_Score, User_Count, Developer, Rating]\n",
       "Index: []"
      ]
     },
     "execution_count": 12,
     "metadata": {},
     "output_type": "execute_result"
    }
   ],
   "source": [
    "# Checking that rows with Null values in Genre and name columns have been deleted\n",
    "\n",
    "df[(df['Name'].isnull()) | (df['Genre'].isnull())]"
   ]
  },
  {
   "cell_type": "code",
   "execution_count": 14,
   "metadata": {},
   "outputs": [
    {
     "name": "stdout",
     "output_type": "stream",
     "text": [
      "Average of global sales in millions dollars when year of release is KNOWN:  0.54\n",
      "Average of global sales in millions dollars when year of release is UNKNOWN:  0.37\n",
      "\n",
      "Difference in percent:  145.75 %\n"
     ]
    }
   ],
   "source": [
    "mean_global_sale_year_unknown = df[df['Year_of_Release'].isnull()]['Global_Sales'].mean()\n",
    "mean_global_sale_year_known = df[df['Year_of_Release'].notnull()]['Global_Sales'].mean()\n",
    "\n",
    "print('Average of global sales in millions dollars when year of release is KNOWN: ',round(mean_global_sale_year_known,2))\n",
    "print('Average of global sales in millions dollars when year of release is UNKNOWN: ',round(mean_global_sale_year_unknown,2))\n",
    "print()\n",
    "\n",
    "print('Difference in percent: ',round(mean_global_sale_year_known/mean_global_sale_year_unknown*100,2),'%')"
   ]
  },
  {
   "cell_type": "code",
   "execution_count": 15,
   "metadata": {},
   "outputs": [
    {
     "data": {
      "image/png": "[encoded data removed]",
      "text/plain": [
       "<Figure size 576x288 with 1 Axes>"
      ]
     },
     "metadata": {},
     "output_type": "display_data"
    }
   ],
   "source": [
    "plt.figure(figsize=(8,4))\n",
    "X1 = ['Known year', 'Unknown year']\n",
    "Y1 = [mean_global_sale_year_known*1000000,mean_global_sale_year_unknown*1000000]\n",
    "plt.bar(X1,Y1,color='green')\n",
    "plt.title('Average Global Sales')\n",
    "plt.ylabel('Global Sales In $')\n",
    "plt.show()"
   ]
  },
  {
   "cell_type": "code",
   "execution_count": 16,
   "metadata": {},
   "outputs": [
    {
     "name": "stdout",
     "output_type": "stream",
     "text": [
      "Average of global sales in millions dollars when Publisher is Known:  0.53\n",
      "Average of global sales in millions dollars when Publisher is Unknown:    0.27\n",
      "\n",
      "Difference in percent:  194.95 %\n"
     ]
    }
   ],
   "source": [
    "mean_global_sale_publisher_known = df[df['Publisher'].notnull()]['Global_Sales'].mean()\n",
    "mean_global_sale_publisher_unknown = df[df['Publisher'].isnull()]['Global_Sales'].mean()\n",
    "\n",
    "print('Average of global sales in millions dollars when Publisher is Known: ',round(mean_global_sale_publisher_known,2))\n",
    "print('Average of global sales in millions dollars when Publisher is Unknown:   ',round(mean_global_sale_publisher_unknown,2))\n",
    "print()\n",
    "print('Difference in percent: ',round(mean_global_sale_publisher_known/mean_global_sale_publisher_unknown*100,2),'%')"
   ]
  },
  {
   "cell_type": "code",
   "execution_count": 17,
   "metadata": {},
   "outputs": [
    {
     "data": {
      "image/png": "[encoded data removed]",
      "text/plain": [
       "<Figure size 576x288 with 1 Axes>"
      ]
     },
     "metadata": {},
     "output_type": "display_data"
    }
   ],
   "source": [
    "plt.figure(figsize=(8,4))\n",
    "X1 = ['Known Publisher','Unknown Publisher']\n",
    "Y1 = [mean_global_sale_publisher_known*1000000,mean_global_sale_publisher_unknown*1000000]\n",
    "plt.bar(X1,Y1,color='green')\n",
    "plt.title('Average Global Sales')\n",
    "plt.ylabel('Global Sales In $')\n",
    "plt.show()"
   ]
  },
  {
   "cell_type": "code",
   "execution_count": 18,
   "metadata": {},
   "outputs": [
    {
     "name": "stdout",
     "output_type": "stream",
     "text": [
      "The number of missing values overlapped in the rows Critic_Score, Critic_Count, User_Score, User_Count,\n",
      "Developer, Rating is:\n",
      "________________________________________________________________________________________________________\n",
      "6608\n"
     ]
    }
   ],
   "source": [
    "print('''The number of missing values overlapped in the rows Critic_Score, Critic_Count, User_Score, User_Count,\n",
    "Developer, Rating is:''')\n",
    "print('________________________________________________________________________________________________________')\n",
    "\n",
    "print(df[(df['Developer'].isnull()) & (df['Critic_Score'].isnull()) & (df['Critic_Count'].isnull())\n",
    "   & (df['User_Score'].isnull()) & (df['User_Count'].isnull()) & (df['Rating'].isnull())]['Name'].count())"
   ]
  },
  {
   "cell_type": "code",
   "execution_count": 19,
   "metadata": {},
   "outputs": [
    {
     "name": "stdout",
     "output_type": "stream",
     "text": [
      "Average Global Sales:\n",
      "_____________________________________________________________________________________________\n",
      "\n",
      "0.53\n",
      "\n",
      "Average Global Sales per game when the values in all the following rows are MISSING: \n",
      "Critic_Score, Critic_Count, User_Score, User_Count, Developer, Rating:\n",
      "_____________________________________________________________________________________________\n",
      "\n",
      "0.43\n",
      "\n",
      "Average Global Sales per game when the values in all the following rows are NOT MISSING: \n",
      "Critic_Score, Critic_Count, User_Score, User_Count, Developer, Rating:\n",
      "_____________________________________________________________________________________________\n",
      "\n",
      "0.77\n"
     ]
    }
   ],
   "source": [
    "print('Average Global Sales:')\n",
    "print('_____________________________________________________________________________________________')\n",
    "print()\n",
    "print(round(df['Global_Sales'].mean(),2))\n",
    "print()\n",
    "\n",
    "print('''Average Global Sales per game when the values in all the following rows are MISSING: \n",
    "Critic_Score, Critic_Count, User_Score, User_Count, Developer, Rating:''')\n",
    "print('_____________________________________________________________________________________________')\n",
    "print()\n",
    "      \n",
    "print(round(df[(df['Critic_Score'].isnull()) & (df['Critic_Count'].isnull()) & (df['User_Score'].isnull()) & (df['User_Count'].isnull()) & (df['Rating'].isnull()) & (df['Developer'].isnull())]['Global_Sales'].mean(),2))\n",
    "\n",
    "print()\n",
    "print('''Average Global Sales per game when the values in all the following rows are NOT MISSING: \n",
    "Critic_Score, Critic_Count, User_Score, User_Count, Developer, Rating:''')\n",
    "print('_____________________________________________________________________________________________')\n",
    "print()\n",
    "      \n",
    "print(round(df[(df['Critic_Score'].notnull()) & (df['Critic_Count'].notnull()) & (df['User_Score'].notnull()) & (df['User_Count'].notnull()) & (df['Rating'].notnull()) & (df['Developer'].notnull())]['Global_Sales'].mean(),2))"
   ]
  },
  {
   "cell_type": "code",
   "execution_count": 20,
   "metadata": {},
   "outputs": [],
   "source": [
    "# Convert data type of Year_of_Release column to integer data type.\n",
    "\n",
    "df['Year_of_Release'] = df['Year_of_Release'].astype('Int64')"
   ]
  },
  {
   "cell_type": "code",
   "execution_count": 21,
   "metadata": {},
   "outputs": [],
   "source": [
    "# Converting User_Count data type from object data type to numeric data type.\n",
    "\n",
    "df['User_Count'] = pd.to_numeric(df['User_Count'])\n",
    "\n",
    "# Converting User_Count, Year_of_Release and Critic_Count data types to integer.\n",
    "\n",
    "df['User_Count'] = df['User_Count'].astype('Int64')\n",
    "df['Critic_Count'] = df['Critic_Count'].astype('Int64')\n",
    "df['Year_of_Release'] = df['Year_of_Release'].astype('Int64')"
   ]
  },
  {
   "cell_type": "code",
   "execution_count": 22,
   "metadata": {},
   "outputs": [
    {
     "name": "stdout",
     "output_type": "stream",
     "text": [
      "Column          | Data Type:\n",
      "________________ __________\n",
      "Name                object\n",
      "Platform            object\n",
      "Year_of_Release      Int64\n",
      "Genre               object\n",
      "Publisher           object\n",
      "NA_Sales           float64\n",
      "EU_Sales           float64\n",
      "JP_Sales           float64\n",
      "Other_Sales        float64\n",
      "Global_Sales       float64\n",
      "Critic_Score       float64\n",
      "Critic_Count         Int64\n",
      "User_Score         float64\n",
      "User_Count           Int64\n",
      "Developer           object\n",
      "Rating              object\n",
      "dtype: object\n"
     ]
    }
   ],
   "source": [
    "print('Column          | Data Type:')\n",
    "print('________________','__________')\n",
    "\n",
    "print(df.dtypes)"
   ]
  },
  {
   "cell_type": "code",
   "execution_count": 23,
   "metadata": {},
   "outputs": [
    {
     "name": "stdout",
     "output_type": "stream",
     "text": [
      "Max User Score:  9.7\n",
      "Min User Score:  0.0\n"
     ]
    }
   ],
   "source": [
    "# Checking that the user score rate is between 0-10.\n",
    "\n",
    "print('Max User Score: ',df['User_Score'].max())\n",
    "print('Min User Score: ',df['User_Score'].min())"
   ]
  },
  {
   "cell_type": "code",
   "execution_count": 24,
   "metadata": {},
   "outputs": [
    {
     "data": {
      "text/html": [
       "<div>\n",
       "<style scoped>\n",
       "    .dataframe tbody tr th:only-of-type {\n",
       "        vertical-align: middle;\n",
       "    }\n",
       "\n",
       "    .dataframe tbody tr th {\n",
       "        vertical-align: top;\n",
       "    }\n",
       "\n",
       "    .dataframe thead th {\n",
       "        text-align: right;\n",
       "    }\n",
       "</style>\n",
       "<table border=\"1\" class=\"dataframe\">\n",
       "  <thead>\n",
       "    <tr style=\"text-align: right;\">\n",
       "      <th></th>\n",
       "      <th>Name</th>\n",
       "      <th>Platform</th>\n",
       "      <th>Year_of_Release</th>\n",
       "      <th>Genre</th>\n",
       "      <th>Publisher</th>\n",
       "      <th>NA_Sales</th>\n",
       "      <th>EU_Sales</th>\n",
       "      <th>JP_Sales</th>\n",
       "      <th>Other_Sales</th>\n",
       "      <th>Global_Sales</th>\n",
       "      <th>Critic_Score</th>\n",
       "      <th>Critic_Count</th>\n",
       "      <th>User_Score</th>\n",
       "      <th>User_Count</th>\n",
       "      <th>Developer</th>\n",
       "      <th>Rating</th>\n",
       "    </tr>\n",
       "  </thead>\n",
       "  <tbody>\n",
       "  </tbody>\n",
       "</table>\n",
       "</div>"
      ],
      "text/plain": [
       "Empty DataFrame\n",
       "Columns: [Name, Platform, Year_of_Release, Genre, Publisher, NA_Sales, EU_Sales, JP_Sales, Other_Sales, Global_Sales, Critic_Score, Critic_Count, User_Score, User_Count, Developer, Rating]\n",
       "Index: []"
      ]
     },
     "execution_count": 24,
     "metadata": {},
     "output_type": "execute_result"
    }
   ],
   "source": [
    "# Making sure the user score value is not greater than 0 when User_Count equals zero or Null\n",
    "\n",
    "df[(df['User_Count'].isnull()) & (df['User_Score'].notnull())]"
   ]
  },
  {
   "cell_type": "code",
   "execution_count": 25,
   "metadata": {},
   "outputs": [
    {
     "data": {
      "text/html": [
       "<div>\n",
       "<style scoped>\n",
       "    .dataframe tbody tr th:only-of-type {\n",
       "        vertical-align: middle;\n",
       "    }\n",
       "\n",
       "    .dataframe tbody tr th {\n",
       "        vertical-align: top;\n",
       "    }\n",
       "\n",
       "    .dataframe thead th {\n",
       "        text-align: right;\n",
       "    }\n",
       "</style>\n",
       "<table border=\"1\" class=\"dataframe\">\n",
       "  <thead>\n",
       "    <tr style=\"text-align: right;\">\n",
       "      <th></th>\n",
       "      <th>Name</th>\n",
       "      <th>Platform</th>\n",
       "      <th>Year_of_Release</th>\n",
       "      <th>Genre</th>\n",
       "      <th>Publisher</th>\n",
       "      <th>NA_Sales</th>\n",
       "      <th>EU_Sales</th>\n",
       "      <th>JP_Sales</th>\n",
       "      <th>Other_Sales</th>\n",
       "      <th>Global_Sales</th>\n",
       "      <th>Critic_Score</th>\n",
       "      <th>Critic_Count</th>\n",
       "      <th>User_Score</th>\n",
       "      <th>User_Count</th>\n",
       "      <th>Developer</th>\n",
       "      <th>Rating</th>\n",
       "    </tr>\n",
       "  </thead>\n",
       "  <tbody>\n",
       "  </tbody>\n",
       "</table>\n",
       "</div>"
      ],
      "text/plain": [
       "Empty DataFrame\n",
       "Columns: [Name, Platform, Year_of_Release, Genre, Publisher, NA_Sales, EU_Sales, JP_Sales, Other_Sales, Global_Sales, Critic_Score, Critic_Count, User_Score, User_Count, Developer, Rating]\n",
       "Index: []"
      ]
     },
     "execution_count": 25,
     "metadata": {},
     "output_type": "execute_result"
    }
   ],
   "source": [
    "# Making sure the critic score value is not greater than 0 when Critic_Count equals zero or Null\n",
    "\n",
    "df[(df['Critic_Count'].isnull()) & (df['Critic_Score'].notnull())]"
   ]
  },
  {
   "cell_type": "code",
   "execution_count": 26,
   "metadata": {},
   "outputs": [
    {
     "data": {
      "text/html": [
       "<div>\n",
       "<style scoped>\n",
       "    .dataframe tbody tr th:only-of-type {\n",
       "        vertical-align: middle;\n",
       "    }\n",
       "\n",
       "    .dataframe tbody tr th {\n",
       "        vertical-align: top;\n",
       "    }\n",
       "\n",
       "    .dataframe thead th {\n",
       "        text-align: right;\n",
       "    }\n",
       "</style>\n",
       "<table border=\"1\" class=\"dataframe\">\n",
       "  <thead>\n",
       "    <tr style=\"text-align: right;\">\n",
       "      <th></th>\n",
       "      <th>Name</th>\n",
       "      <th>Platform</th>\n",
       "      <th>Year_of_Release</th>\n",
       "      <th>Genre</th>\n",
       "      <th>Publisher</th>\n",
       "      <th>NA_Sales</th>\n",
       "      <th>EU_Sales</th>\n",
       "      <th>JP_Sales</th>\n",
       "      <th>Other_Sales</th>\n",
       "      <th>Global_Sales</th>\n",
       "      <th>Critic_Score</th>\n",
       "      <th>Critic_Count</th>\n",
       "      <th>User_Score</th>\n",
       "      <th>User_Count</th>\n",
       "      <th>Developer</th>\n",
       "      <th>Rating</th>\n",
       "    </tr>\n",
       "  </thead>\n",
       "  <tbody>\n",
       "  </tbody>\n",
       "</table>\n",
       "</div>"
      ],
      "text/plain": [
       "Empty DataFrame\n",
       "Columns: [Name, Platform, Year_of_Release, Genre, Publisher, NA_Sales, EU_Sales, JP_Sales, Other_Sales, Global_Sales, Critic_Score, Critic_Count, User_Score, User_Count, Developer, Rating]\n",
       "Index: []"
      ]
     },
     "execution_count": 26,
     "metadata": {},
     "output_type": "execute_result"
    }
   ],
   "source": [
    "# Verifying that there are no situations where users gave scores but the User_Score  value is null\n",
    "\n",
    "df[(df['User_Count']>1) & (df['User_Score'].isnull())]"
   ]
  },
  {
   "cell_type": "code",
   "execution_count": 27,
   "metadata": {},
   "outputs": [
    {
     "data": {
      "text/html": [
       "<div>\n",
       "<style scoped>\n",
       "    .dataframe tbody tr th:only-of-type {\n",
       "        vertical-align: middle;\n",
       "    }\n",
       "\n",
       "    .dataframe tbody tr th {\n",
       "        vertical-align: top;\n",
       "    }\n",
       "\n",
       "    .dataframe thead th {\n",
       "        text-align: right;\n",
       "    }\n",
       "</style>\n",
       "<table border=\"1\" class=\"dataframe\">\n",
       "  <thead>\n",
       "    <tr style=\"text-align: right;\">\n",
       "      <th></th>\n",
       "      <th>Name</th>\n",
       "      <th>Platform</th>\n",
       "      <th>Year_of_Release</th>\n",
       "      <th>Genre</th>\n",
       "      <th>Publisher</th>\n",
       "      <th>NA_Sales</th>\n",
       "      <th>EU_Sales</th>\n",
       "      <th>JP_Sales</th>\n",
       "      <th>Other_Sales</th>\n",
       "      <th>Global_Sales</th>\n",
       "      <th>Critic_Score</th>\n",
       "      <th>Critic_Count</th>\n",
       "      <th>User_Score</th>\n",
       "      <th>User_Count</th>\n",
       "      <th>Developer</th>\n",
       "      <th>Rating</th>\n",
       "    </tr>\n",
       "  </thead>\n",
       "  <tbody>\n",
       "  </tbody>\n",
       "</table>\n",
       "</div>"
      ],
      "text/plain": [
       "Empty DataFrame\n",
       "Columns: [Name, Platform, Year_of_Release, Genre, Publisher, NA_Sales, EU_Sales, JP_Sales, Other_Sales, Global_Sales, Critic_Score, Critic_Count, User_Score, User_Count, Developer, Rating]\n",
       "Index: []"
      ]
     },
     "execution_count": 27,
     "metadata": {},
     "output_type": "execute_result"
    }
   ],
   "source": [
    "# Verifying that there are no situations where critics gave scores but the Critic_Score value is null\n",
    "\n",
    "df[(df['Critic_Count']>1) & (df['Critic_Score'].isnull())]"
   ]
  },
  {
   "cell_type": "code",
   "execution_count": 28,
   "metadata": {},
   "outputs": [
    {
     "data": {
      "text/html": [
       "<div>\n",
       "<style scoped>\n",
       "    .dataframe tbody tr th:only-of-type {\n",
       "        vertical-align: middle;\n",
       "    }\n",
       "\n",
       "    .dataframe tbody tr th {\n",
       "        vertical-align: top;\n",
       "    }\n",
       "\n",
       "    .dataframe thead th {\n",
       "        text-align: right;\n",
       "    }\n",
       "</style>\n",
       "<table border=\"1\" class=\"dataframe\">\n",
       "  <thead>\n",
       "    <tr style=\"text-align: right;\">\n",
       "      <th></th>\n",
       "      <th>NA_Sales</th>\n",
       "      <th>EU_Sales</th>\n",
       "      <th>JP_Sales</th>\n",
       "      <th>Other_Sales</th>\n",
       "      <th>Global_Sales</th>\n",
       "    </tr>\n",
       "  </thead>\n",
       "  <tbody>\n",
       "    <tr>\n",
       "      <td>0</td>\n",
       "      <td>41.36</td>\n",
       "      <td>28.96</td>\n",
       "      <td>3.77</td>\n",
       "      <td>8.45</td>\n",
       "      <td>82.53</td>\n",
       "    </tr>\n",
       "    <tr>\n",
       "      <td>2</td>\n",
       "      <td>15.68</td>\n",
       "      <td>12.76</td>\n",
       "      <td>3.79</td>\n",
       "      <td>3.29</td>\n",
       "      <td>35.52</td>\n",
       "    </tr>\n",
       "    <tr>\n",
       "      <td>5</td>\n",
       "      <td>23.20</td>\n",
       "      <td>2.26</td>\n",
       "      <td>4.22</td>\n",
       "      <td>0.58</td>\n",
       "      <td>30.26</td>\n",
       "    </tr>\n",
       "    <tr>\n",
       "      <td>11</td>\n",
       "      <td>9.71</td>\n",
       "      <td>7.47</td>\n",
       "      <td>4.13</td>\n",
       "      <td>1.90</td>\n",
       "      <td>23.21</td>\n",
       "    </tr>\n",
       "    <tr>\n",
       "      <td>17</td>\n",
       "      <td>9.43</td>\n",
       "      <td>0.40</td>\n",
       "      <td>0.41</td>\n",
       "      <td>10.57</td>\n",
       "      <td>20.81</td>\n",
       "    </tr>\n",
       "    <tr>\n",
       "      <td>...</td>\n",
       "      <td>...</td>\n",
       "      <td>...</td>\n",
       "      <td>...</td>\n",
       "      <td>...</td>\n",
       "      <td>...</td>\n",
       "    </tr>\n",
       "    <tr>\n",
       "      <td>15149</td>\n",
       "      <td>0.02</td>\n",
       "      <td>0.01</td>\n",
       "      <td>0.00</td>\n",
       "      <td>0.00</td>\n",
       "      <td>0.02</td>\n",
       "    </tr>\n",
       "    <tr>\n",
       "      <td>15153</td>\n",
       "      <td>0.02</td>\n",
       "      <td>0.01</td>\n",
       "      <td>0.00</td>\n",
       "      <td>0.00</td>\n",
       "      <td>0.02</td>\n",
       "    </tr>\n",
       "    <tr>\n",
       "      <td>15158</td>\n",
       "      <td>0.02</td>\n",
       "      <td>0.01</td>\n",
       "      <td>0.00</td>\n",
       "      <td>0.00</td>\n",
       "      <td>0.02</td>\n",
       "    </tr>\n",
       "    <tr>\n",
       "      <td>15206</td>\n",
       "      <td>0.02</td>\n",
       "      <td>0.01</td>\n",
       "      <td>0.00</td>\n",
       "      <td>0.00</td>\n",
       "      <td>0.02</td>\n",
       "    </tr>\n",
       "    <tr>\n",
       "      <td>15362</td>\n",
       "      <td>0.02</td>\n",
       "      <td>0.01</td>\n",
       "      <td>0.00</td>\n",
       "      <td>0.00</td>\n",
       "      <td>0.02</td>\n",
       "    </tr>\n",
       "  </tbody>\n",
       "</table>\n",
       "<p>3663 rows × 5 columns</p>\n",
       "</div>"
      ],
      "text/plain": [
       "       NA_Sales  EU_Sales  JP_Sales  Other_Sales  Global_Sales\n",
       "0         41.36     28.96      3.77         8.45         82.53\n",
       "2         15.68     12.76      3.79         3.29         35.52\n",
       "5         23.20      2.26      4.22         0.58         30.26\n",
       "11         9.71      7.47      4.13         1.90         23.21\n",
       "17         9.43      0.40      0.41        10.57         20.81\n",
       "...         ...       ...       ...          ...           ...\n",
       "15149      0.02      0.01      0.00         0.00          0.02\n",
       "15153      0.02      0.01      0.00         0.00          0.02\n",
       "15158      0.02      0.01      0.00         0.00          0.02\n",
       "15206      0.02      0.01      0.00         0.00          0.02\n",
       "15362      0.02      0.01      0.00         0.00          0.02\n",
       "\n",
       "[3663 rows x 5 columns]"
      ]
     },
     "execution_count": 28,
     "metadata": {},
     "output_type": "execute_result"
    }
   ],
   "source": [
    "# Checking if the value in the Global_Sales column proximity equals the sum of the columns representing sales.\n",
    "\n",
    "df[(df['NA_Sales']+df['EU_Sales']+df['JP_Sales']+df['Other_Sales'] != df['Global_Sales'])  & (df['NA_Sales']+df['EU_Sales']+df['JP_Sales']+df['Other_Sales'] +0.01 != df['Global_Sales']) & (df['NA_Sales']+df['EU_Sales']+df['JP_Sales']+df['Other_Sales'] -0.01 != df['Global_Sales']) & (df['NA_Sales']+df['EU_Sales']+df['JP_Sales']+df['Other_Sales']-0.02 != df['Global_Sales'])& (df['NA_Sales']+df['EU_Sales']+df['JP_Sales']+df['Other_Sales']+0.02 != df['Global_Sales']+0.02)][['NA_Sales','EU_Sales','JP_Sales','Other_Sales','Global_Sales']]"
   ]
  },
  {
   "cell_type": "code",
   "execution_count": 29,
   "metadata": {},
   "outputs": [
    {
     "data": {
      "text/html": [
       "<div>\n",
       "<style scoped>\n",
       "    .dataframe tbody tr th:only-of-type {\n",
       "        vertical-align: middle;\n",
       "    }\n",
       "\n",
       "    .dataframe tbody tr th {\n",
       "        vertical-align: top;\n",
       "    }\n",
       "\n",
       "    .dataframe thead th {\n",
       "        text-align: right;\n",
       "    }\n",
       "</style>\n",
       "<table border=\"1\" class=\"dataframe\">\n",
       "  <thead>\n",
       "    <tr style=\"text-align: right;\">\n",
       "      <th></th>\n",
       "      <th>NA_Sales</th>\n",
       "      <th>EU_Sales</th>\n",
       "      <th>JP_Sales</th>\n",
       "      <th>Other_Sales</th>\n",
       "      <th>Global_Sales</th>\n",
       "    </tr>\n",
       "  </thead>\n",
       "  <tbody>\n",
       "    <tr>\n",
       "      <td>106</td>\n",
       "      <td>3.27</td>\n",
       "      <td>2.22</td>\n",
       "      <td>1.4</td>\n",
       "      <td>0.29</td>\n",
       "      <td>7.16</td>\n",
       "    </tr>\n",
       "    <tr>\n",
       "      <td>6395</td>\n",
       "      <td>0.12</td>\n",
       "      <td>0.11</td>\n",
       "      <td>0.0</td>\n",
       "      <td>0.02</td>\n",
       "      <td>0.27</td>\n",
       "    </tr>\n",
       "  </tbody>\n",
       "</table>\n",
       "</div>"
      ],
      "text/plain": [
       "      NA_Sales  EU_Sales  JP_Sales  Other_Sales  Global_Sales\n",
       "106       3.27      2.22       1.4         0.29          7.16\n",
       "6395      0.12      0.11       0.0         0.02          0.27"
      ]
     },
     "execution_count": 29,
     "metadata": {},
     "output_type": "execute_result"
    }
   ],
   "source": [
    "# Check if the Global_Sales value is significantly different (more than 0.02) than the expected value\n",
    "\n",
    "df[(df['NA_Sales']+df['EU_Sales']+df['JP_Sales']+df['Other_Sales'] > df['Global_Sales'] + 0.02)  | (df['NA_Sales']+df['EU_Sales']+df['JP_Sales']+df['Other_Sales']  < df['Global_Sales'] - 0.02)][['NA_Sales','EU_Sales','JP_Sales','Other_Sales','Global_Sales']]"
   ]
  },
  {
   "cell_type": "markdown",
   "metadata": {},
   "source": [
    "It is reasonable that the value in Global_Sales is not the exact same as expected, but it is close due to the data including values that included only two decimals."
   ]
  },
  {
   "cell_type": "code",
   "execution_count": 30,
   "metadata": {},
   "outputs": [],
   "source": [
    "'''\n",
    "Correcting the wrong values in the Global_Sales column based on the total of the sales in the NA_Sales,\n",
    "EU_Sales, JP_Sales and Other_Sales columns\n",
    "'''\n",
    "\n",
    "df ['Global_Sales'] = df['NA_Sales']+df['EU_Sales']+df['JP_Sales']+df['Other_Sales'] "
   ]
  },
  {
   "cell_type": "code",
   "execution_count": 31,
   "metadata": {},
   "outputs": [
    {
     "data": {
      "text/html": [
       "<div>\n",
       "<style scoped>\n",
       "    .dataframe tbody tr th:only-of-type {\n",
       "        vertical-align: middle;\n",
       "    }\n",
       "\n",
       "    .dataframe tbody tr th {\n",
       "        vertical-align: top;\n",
       "    }\n",
       "\n",
       "    .dataframe thead th {\n",
       "        text-align: right;\n",
       "    }\n",
       "</style>\n",
       "<table border=\"1\" class=\"dataframe\">\n",
       "  <thead>\n",
       "    <tr style=\"text-align: right;\">\n",
       "      <th></th>\n",
       "      <th>NA_Sales</th>\n",
       "      <th>EU_Sales</th>\n",
       "      <th>JP_Sales</th>\n",
       "      <th>Other_Sales</th>\n",
       "      <th>Global_Sales</th>\n",
       "    </tr>\n",
       "  </thead>\n",
       "  <tbody>\n",
       "  </tbody>\n",
       "</table>\n",
       "</div>"
      ],
      "text/plain": [
       "Empty DataFrame\n",
       "Columns: [NA_Sales, EU_Sales, JP_Sales, Other_Sales, Global_Sales]\n",
       "Index: []"
      ]
     },
     "execution_count": 31,
     "metadata": {},
     "output_type": "execute_result"
    }
   ],
   "source": [
    "# Verifying that the values are correct\n",
    "\n",
    "df[(df['NA_Sales']+df['EU_Sales']+df['JP_Sales']+df['Other_Sales'] > df['Global_Sales'])  | (df['NA_Sales']+df['EU_Sales']+df['JP_Sales']+df['Other_Sales']  < df['Global_Sales'])][['NA_Sales','EU_Sales','JP_Sales','Other_Sales','Global_Sales']]"
   ]
  },
  {
   "cell_type": "code",
   "execution_count": 32,
   "metadata": {},
   "outputs": [],
   "source": [
    "# Dropping duplicates if they exist\n",
    "\n",
    "df = df.drop_duplicates()"
   ]
  },
  {
   "cell_type": "code",
   "execution_count": 33,
   "metadata": {},
   "outputs": [
    {
     "data": {
      "text/plain": [
       "Need for Speed: Most Wanted                12\n",
       "LEGO Marvel Super Heroes                    9\n",
       "Madden NFL 07                               9\n",
       "Ratatouille                                 9\n",
       "FIFA 14                                     9\n",
       "FIFA 15                                     8\n",
       "Cars                                        8\n",
       "LEGO Jurassic World                         8\n",
       "FIFA Soccer 13                              8\n",
       "LEGO Harry Potter: Years 5-7                8\n",
       "LEGO Star Wars II: The Original Trilogy     8\n",
       "Lego Batman 3: Beyond Gotham                8\n",
       "The LEGO Movie Videogame                    8\n",
       "LEGO The Hobbit                             8\n",
       "Madden NFL 08                               8\n",
       "Angry Birds Star Wars                       8\n",
       "Terraria                                    8\n",
       "Monopoly                                    8\n",
       "Skylanders: SuperChargers                   7\n",
       "Harry Potter and the Half-Blood Prince      7\n",
       "Name: Name, dtype: int64"
      ]
     },
     "execution_count": 33,
     "metadata": {},
     "output_type": "execute_result"
    }
   ],
   "source": [
    "# Checking video game names for duplicates\n",
    "\n",
    "df['Name'].value_counts().head(20)"
   ]
  },
  {
   "cell_type": "code",
   "execution_count": 34,
   "metadata": {},
   "outputs": [
    {
     "data": {
      "text/html": [
       "<div>\n",
       "<style scoped>\n",
       "    .dataframe tbody tr th:only-of-type {\n",
       "        vertical-align: middle;\n",
       "    }\n",
       "\n",
       "    .dataframe tbody tr th {\n",
       "        vertical-align: top;\n",
       "    }\n",
       "\n",
       "    .dataframe thead th {\n",
       "        text-align: right;\n",
       "    }\n",
       "</style>\n",
       "<table border=\"1\" class=\"dataframe\">\n",
       "  <thead>\n",
       "    <tr style=\"text-align: right;\">\n",
       "      <th></th>\n",
       "      <th>Name</th>\n",
       "      <th>Platform</th>\n",
       "      <th>Year_of_Release</th>\n",
       "      <th>Genre</th>\n",
       "      <th>Publisher</th>\n",
       "      <th>NA_Sales</th>\n",
       "      <th>EU_Sales</th>\n",
       "      <th>JP_Sales</th>\n",
       "      <th>Other_Sales</th>\n",
       "      <th>Global_Sales</th>\n",
       "      <th>Critic_Score</th>\n",
       "      <th>Critic_Count</th>\n",
       "      <th>User_Score</th>\n",
       "      <th>User_Count</th>\n",
       "      <th>Developer</th>\n",
       "      <th>Rating</th>\n",
       "    </tr>\n",
       "  </thead>\n",
       "  <tbody>\n",
       "    <tr>\n",
       "      <td>253</td>\n",
       "      <td>Need for Speed: Most Wanted</td>\n",
       "      <td>PS2</td>\n",
       "      <td>2005</td>\n",
       "      <td>Racing</td>\n",
       "      <td>Electronic Arts</td>\n",
       "      <td>2.03</td>\n",
       "      <td>1.79</td>\n",
       "      <td>0.08</td>\n",
       "      <td>0.47</td>\n",
       "      <td>4.37</td>\n",
       "      <td>82.0</td>\n",
       "      <td>36</td>\n",
       "      <td>9.1</td>\n",
       "      <td>137</td>\n",
       "      <td>EA Canada</td>\n",
       "      <td>T</td>\n",
       "    </tr>\n",
       "    <tr>\n",
       "      <td>523</td>\n",
       "      <td>Need for Speed: Most Wanted</td>\n",
       "      <td>PS3</td>\n",
       "      <td>2012</td>\n",
       "      <td>Racing</td>\n",
       "      <td>Electronic Arts</td>\n",
       "      <td>0.71</td>\n",
       "      <td>1.46</td>\n",
       "      <td>0.06</td>\n",
       "      <td>0.58</td>\n",
       "      <td>2.81</td>\n",
       "      <td>NaN</td>\n",
       "      <td>NaN</td>\n",
       "      <td>NaN</td>\n",
       "      <td>NaN</td>\n",
       "      <td>NaN</td>\n",
       "      <td>NaN</td>\n",
       "    </tr>\n",
       "    <tr>\n",
       "      <td>1190</td>\n",
       "      <td>Need for Speed: Most Wanted</td>\n",
       "      <td>X360</td>\n",
       "      <td>2012</td>\n",
       "      <td>Racing</td>\n",
       "      <td>Electronic Arts</td>\n",
       "      <td>0.62</td>\n",
       "      <td>0.78</td>\n",
       "      <td>0.01</td>\n",
       "      <td>0.15</td>\n",
       "      <td>1.56</td>\n",
       "      <td>83.0</td>\n",
       "      <td>54</td>\n",
       "      <td>8.5</td>\n",
       "      <td>134</td>\n",
       "      <td>EA Canada</td>\n",
       "      <td>T</td>\n",
       "    </tr>\n",
       "    <tr>\n",
       "      <td>1591</td>\n",
       "      <td>Need for Speed: Most Wanted</td>\n",
       "      <td>X360</td>\n",
       "      <td>2005</td>\n",
       "      <td>Racing</td>\n",
       "      <td>Electronic Arts</td>\n",
       "      <td>1.00</td>\n",
       "      <td>0.13</td>\n",
       "      <td>0.02</td>\n",
       "      <td>0.10</td>\n",
       "      <td>1.25</td>\n",
       "      <td>83.0</td>\n",
       "      <td>54</td>\n",
       "      <td>8.5</td>\n",
       "      <td>134</td>\n",
       "      <td>EA Canada</td>\n",
       "      <td>T</td>\n",
       "    </tr>\n",
       "    <tr>\n",
       "      <td>1998</td>\n",
       "      <td>Need for Speed: Most Wanted</td>\n",
       "      <td>XB</td>\n",
       "      <td>2005</td>\n",
       "      <td>Racing</td>\n",
       "      <td>Electronic Arts</td>\n",
       "      <td>0.53</td>\n",
       "      <td>0.46</td>\n",
       "      <td>0.00</td>\n",
       "      <td>0.05</td>\n",
       "      <td>1.04</td>\n",
       "      <td>83.0</td>\n",
       "      <td>32</td>\n",
       "      <td>8.8</td>\n",
       "      <td>29</td>\n",
       "      <td>EA Canada</td>\n",
       "      <td>T</td>\n",
       "    </tr>\n",
       "    <tr>\n",
       "      <td>2048</td>\n",
       "      <td>Need for Speed: Most Wanted</td>\n",
       "      <td>PSV</td>\n",
       "      <td>2012</td>\n",
       "      <td>Racing</td>\n",
       "      <td>Electronic Arts</td>\n",
       "      <td>0.33</td>\n",
       "      <td>0.45</td>\n",
       "      <td>0.01</td>\n",
       "      <td>0.22</td>\n",
       "      <td>1.01</td>\n",
       "      <td>NaN</td>\n",
       "      <td>NaN</td>\n",
       "      <td>NaN</td>\n",
       "      <td>NaN</td>\n",
       "      <td>NaN</td>\n",
       "      <td>NaN</td>\n",
       "    </tr>\n",
       "    <tr>\n",
       "      <td>3581</td>\n",
       "      <td>Need for Speed: Most Wanted</td>\n",
       "      <td>GC</td>\n",
       "      <td>2005</td>\n",
       "      <td>Racing</td>\n",
       "      <td>Electronic Arts</td>\n",
       "      <td>0.43</td>\n",
       "      <td>0.11</td>\n",
       "      <td>0.00</td>\n",
       "      <td>0.02</td>\n",
       "      <td>0.56</td>\n",
       "      <td>80.0</td>\n",
       "      <td>18</td>\n",
       "      <td>9.1</td>\n",
       "      <td>22</td>\n",
       "      <td>EA Canada</td>\n",
       "      <td>T</td>\n",
       "    </tr>\n",
       "    <tr>\n",
       "      <td>5973</td>\n",
       "      <td>Need for Speed: Most Wanted</td>\n",
       "      <td>PC</td>\n",
       "      <td>2005</td>\n",
       "      <td>Racing</td>\n",
       "      <td>Electronic Arts</td>\n",
       "      <td>0.02</td>\n",
       "      <td>0.23</td>\n",
       "      <td>0.00</td>\n",
       "      <td>0.04</td>\n",
       "      <td>0.29</td>\n",
       "      <td>82.0</td>\n",
       "      <td>19</td>\n",
       "      <td>8.5</td>\n",
       "      <td>525</td>\n",
       "      <td>Black Box</td>\n",
       "      <td>T</td>\n",
       "    </tr>\n",
       "    <tr>\n",
       "      <td>6274</td>\n",
       "      <td>Need for Speed: Most Wanted</td>\n",
       "      <td>WiiU</td>\n",
       "      <td>2013</td>\n",
       "      <td>Racing</td>\n",
       "      <td>Electronic Arts</td>\n",
       "      <td>0.13</td>\n",
       "      <td>0.12</td>\n",
       "      <td>0.00</td>\n",
       "      <td>0.02</td>\n",
       "      <td>0.27</td>\n",
       "      <td>NaN</td>\n",
       "      <td>NaN</td>\n",
       "      <td>NaN</td>\n",
       "      <td>NaN</td>\n",
       "      <td>NaN</td>\n",
       "      <td>NaN</td>\n",
       "    </tr>\n",
       "    <tr>\n",
       "      <td>6411</td>\n",
       "      <td>Need for Speed: Most Wanted</td>\n",
       "      <td>DS</td>\n",
       "      <td>2005</td>\n",
       "      <td>Racing</td>\n",
       "      <td>Electronic Arts</td>\n",
       "      <td>0.24</td>\n",
       "      <td>0.01</td>\n",
       "      <td>0.00</td>\n",
       "      <td>0.02</td>\n",
       "      <td>0.27</td>\n",
       "      <td>45.0</td>\n",
       "      <td>4</td>\n",
       "      <td>6.1</td>\n",
       "      <td>22</td>\n",
       "      <td>EA Canada</td>\n",
       "      <td>E</td>\n",
       "    </tr>\n",
       "    <tr>\n",
       "      <td>6474</td>\n",
       "      <td>Need for Speed: Most Wanted</td>\n",
       "      <td>GBA</td>\n",
       "      <td>2005</td>\n",
       "      <td>Racing</td>\n",
       "      <td>Electronic Arts</td>\n",
       "      <td>0.19</td>\n",
       "      <td>0.07</td>\n",
       "      <td>0.00</td>\n",
       "      <td>0.00</td>\n",
       "      <td>0.26</td>\n",
       "      <td>NaN</td>\n",
       "      <td>NaN</td>\n",
       "      <td>8.3</td>\n",
       "      <td>14</td>\n",
       "      <td>EA Canada</td>\n",
       "      <td>E</td>\n",
       "    </tr>\n",
       "    <tr>\n",
       "      <td>11716</td>\n",
       "      <td>Need for Speed: Most Wanted</td>\n",
       "      <td>PC</td>\n",
       "      <td>2012</td>\n",
       "      <td>Racing</td>\n",
       "      <td>Electronic Arts</td>\n",
       "      <td>0.00</td>\n",
       "      <td>0.06</td>\n",
       "      <td>0.00</td>\n",
       "      <td>0.02</td>\n",
       "      <td>0.08</td>\n",
       "      <td>82.0</td>\n",
       "      <td>19</td>\n",
       "      <td>8.5</td>\n",
       "      <td>525</td>\n",
       "      <td>Black Box</td>\n",
       "      <td>T</td>\n",
       "    </tr>\n",
       "  </tbody>\n",
       "</table>\n",
       "</div>"
      ],
      "text/plain": [
       "                              Name Platform  Year_of_Release   Genre  \\\n",
       "253    Need for Speed: Most Wanted      PS2             2005  Racing   \n",
       "523    Need for Speed: Most Wanted      PS3             2012  Racing   \n",
       "1190   Need for Speed: Most Wanted     X360             2012  Racing   \n",
       "1591   Need for Speed: Most Wanted     X360             2005  Racing   \n",
       "1998   Need for Speed: Most Wanted       XB             2005  Racing   \n",
       "2048   Need for Speed: Most Wanted      PSV             2012  Racing   \n",
       "3581   Need for Speed: Most Wanted       GC             2005  Racing   \n",
       "5973   Need for Speed: Most Wanted       PC             2005  Racing   \n",
       "6274   Need for Speed: Most Wanted     WiiU             2013  Racing   \n",
       "6411   Need for Speed: Most Wanted       DS             2005  Racing   \n",
       "6474   Need for Speed: Most Wanted      GBA             2005  Racing   \n",
       "11716  Need for Speed: Most Wanted       PC             2012  Racing   \n",
       "\n",
       "             Publisher  NA_Sales  EU_Sales  JP_Sales  Other_Sales  \\\n",
       "253    Electronic Arts      2.03      1.79      0.08         0.47   \n",
       "523    Electronic Arts      0.71      1.46      0.06         0.58   \n",
       "1190   Electronic Arts      0.62      0.78      0.01         0.15   \n",
       "1591   Electronic Arts      1.00      0.13      0.02         0.10   \n",
       "1998   Electronic Arts      0.53      0.46      0.00         0.05   \n",
       "2048   Electronic Arts      0.33      0.45      0.01         0.22   \n",
       "3581   Electronic Arts      0.43      0.11      0.00         0.02   \n",
       "5973   Electronic Arts      0.02      0.23      0.00         0.04   \n",
       "6274   Electronic Arts      0.13      0.12      0.00         0.02   \n",
       "6411   Electronic Arts      0.24      0.01      0.00         0.02   \n",
       "6474   Electronic Arts      0.19      0.07      0.00         0.00   \n",
       "11716  Electronic Arts      0.00      0.06      0.00         0.02   \n",
       "\n",
       "       Global_Sales  Critic_Score  Critic_Count  User_Score  User_Count  \\\n",
       "253            4.37          82.0            36         9.1         137   \n",
       "523            2.81           NaN           NaN         NaN         NaN   \n",
       "1190           1.56          83.0            54         8.5         134   \n",
       "1591           1.25          83.0            54         8.5         134   \n",
       "1998           1.04          83.0            32         8.8          29   \n",
       "2048           1.01           NaN           NaN         NaN         NaN   \n",
       "3581           0.56          80.0            18         9.1          22   \n",
       "5973           0.29          82.0            19         8.5         525   \n",
       "6274           0.27           NaN           NaN         NaN         NaN   \n",
       "6411           0.27          45.0             4         6.1          22   \n",
       "6474           0.26           NaN           NaN         8.3          14   \n",
       "11716          0.08          82.0            19         8.5         525   \n",
       "\n",
       "       Developer Rating  \n",
       "253    EA Canada      T  \n",
       "523          NaN    NaN  \n",
       "1190   EA Canada      T  \n",
       "1591   EA Canada      T  \n",
       "1998   EA Canada      T  \n",
       "2048         NaN    NaN  \n",
       "3581   EA Canada      T  \n",
       "5973   Black Box      T  \n",
       "6274         NaN    NaN  \n",
       "6411   EA Canada      E  \n",
       "6474   EA Canada      E  \n",
       "11716  Black Box      T  "
      ]
     },
     "execution_count": 34,
     "metadata": {},
     "output_type": "execute_result"
    }
   ],
   "source": [
    "df[df['Name'] == 'Need for Speed: Most Wanted']\n",
    "\n",
    "# The result means that some games can be released in different years and on different platforms, so game_id is necessary."
   ]
  },
  {
   "cell_type": "markdown",
   "metadata": {},
   "source": [
    "# Data Exploration"
   ]
  },
  {
   "cell_type": "code",
   "execution_count": 35,
   "metadata": {},
   "outputs": [
    {
     "data": {
      "text/plain": [
       "(10.0, 0.0)"
      ]
     },
     "execution_count": 35,
     "metadata": {},
     "output_type": "execute_result"
    },
    {
     "data": {
      "image/png": "[encoded data removed]",
      "text/plain": [
       "<Figure size 1152x504 with 2 Axes>"
      ]
     },
     "metadata": {},
     "output_type": "display_data"
    }
   ],
   "source": [
    "# Checking correlations between the numerical columns\n",
    "\n",
    "plt.figure(figsize=(16,7))\n",
    "plt.title('Heat Map')\n",
    "\n",
    "\n",
    "ax = sns.heatmap(df.corr(),cmap='coolwarm',linecolor='black',linewidth=0.05,annot=True)\n",
    "\n",
    "ax.set_ylim(sorted(ax.get_xlim(), reverse=True))"
   ]
  },
  {
   "cell_type": "code",
   "execution_count": 36,
   "metadata": {},
   "outputs": [
    {
     "data": {
      "text/plain": [
       "Text(0.5, 1.0, 'Global Sales Distribution - 0 To 40M$ Sales')"
      ]
     },
     "execution_count": 36,
     "metadata": {},
     "output_type": "execute_result"
    },
    {
     "data": {
      "image/png": "[encoded data removed]",
      "text/plain": [
       "<Figure size 504x288 with 1 Axes>"
      ]
     },
     "metadata": {},
     "output_type": "display_data"
    }
   ],
   "source": [
    "plt.figure(figsize=(7,4))\n",
    "\n",
    "df['Global_Sales'].plot(kind='hist',color='green',bins=20)\n",
    "plt.xlim([0,40])\n",
    "plt.title ('Global Sales Distribution - 0 To 40M$ Sales')"
   ]
  },
  {
   "cell_type": "code",
   "execution_count": 37,
   "metadata": {},
   "outputs": [
    {
     "data": {
      "text/plain": [
       "Text(0.5, 0, 'Genre')"
      ]
     },
     "execution_count": 37,
     "metadata": {},
     "output_type": "execute_result"
    },
    {
     "data": {
      "image/png": "[encoded data removed]",
      "text/plain": [
       "<Figure size 432x288 with 1 Axes>"
      ]
     },
     "metadata": {},
     "output_type": "display_data"
    }
   ],
   "source": [
    "df.groupby('Genre').Global_Sales.mean().plot(kind='barh',color='green',alpha=0.6)\n",
    "plt.title('Average Global_Sales By Genre')\n",
    "plt.ylabel('Global Sales')\n",
    "plt.xlabel('Genre')"
   ]
  },
  {
   "cell_type": "markdown",
   "metadata": {},
   "source": [
    "Platform games:\n",
    "\n",
    "Often simplified as platformer or jump 'n' run games) are a video game genre and subgenre of action games in which the core objective is to move the player character between points in a rendered environment. "
   ]
  },
  {
   "cell_type": "code",
   "execution_count": 40,
   "metadata": {},
   "outputs": [
    {
     "name": "stdout",
     "output_type": "stream",
     "text": [
      "Average of global sales in millions dollars when Rating is KNOWN:  0.54\n",
      "Average of global sales in millions dollars when Rating is UNKNOWN:  0.42\n",
      "\n",
      "Difference in percent:  144.92 %\n"
     ]
    }
   ],
   "source": [
    "mean_global_sale_rating_known = df[df['Rating'].notnull()]['Global_Sales'].mean()\n",
    "mean_global_sale_rating_unknown = df[df['Rating'].isnull()]['Global_Sales'].mean()\n",
    "\n",
    "print('Average of global sales in millions dollars when Rating is KNOWN: ',round(mean_global_sale_year_known,2))\n",
    "print('Average of global sales in millions dollars when Rating is UNKNOWN: ',round(mean_global_sale_rating_unknown,2))\n",
    "print()\n",
    "\n",
    "print('Difference in percent: ',round(mean_global_sale_rating_known/mean_global_sale_rating_unknown*100,2),'%')"
   ]
  },
  {
   "cell_type": "code",
   "execution_count": 41,
   "metadata": {},
   "outputs": [
    {
     "data": {
      "image/png": "[encoded data removed]",
      "text/plain": [
       "<Figure size 576x288 with 1 Axes>"
      ]
     },
     "metadata": {},
     "output_type": "display_data"
    }
   ],
   "source": [
    "plt.figure(figsize=(8,4))\n",
    "X = ['Known Rating', 'Unknown Rating']\n",
    "Y = [mean_global_sale_rating_known*1000000,mean_global_sale_rating_unknown*1000000]\n",
    "plt.bar(X,Y,color='green')\n",
    "plt.title('Average Global Sales In $')\n",
    "plt.ylabel('Gloal Sales In $')\n",
    "plt.show()"
   ]
  },
  {
   "cell_type": "markdown",
   "metadata": {},
   "source": [
    "Can clearly see the correlation between the sals columns.\n",
    "There is a strong correlation also between Critic Score and User Score."
   ]
  },
  {
   "cell_type": "code",
   "execution_count": 42,
   "metadata": {},
   "outputs": [
    {
     "data": {
      "text/plain": [
       "Text(0.5, 0, 'Rating - Game Category')"
      ]
     },
     "execution_count": 42,
     "metadata": {},
     "output_type": "execute_result"
    },
    {
     "data": {
      "image/png": "[encoded data removed]",
      "text/plain": [
       "<Figure size 576x288 with 1 Axes>"
      ]
     },
     "metadata": {},
     "output_type": "display_data"
    }
   ],
   "source": [
    "plt.figure(figsize=(8,4))\n",
    "df.groupby('Rating').Global_Sales.mean().plot(kind='bar',color='blue',alpha=0.5)\n",
    "plt.title('Average Global_Sales By Game Rating Category')\n",
    "plt.ylabel('Global Sales')\n",
    "plt.xlabel('Rating - Game Category')"
   ]
  },
  {
   "cell_type": "markdown",
   "metadata": {},
   "source": [
    "Ratings guide:\n",
    "\n",
    "* Ao - Adults Only - Ages 18 and up.\n",
    "* E- Everyone.\n",
    "* E10+ - Ages 10 and up.\n",
    "* EC - Ages 3 years and older.\n",
    "* K-A - Ages 6 and up.\n",
    "* M- Mature - Ages 17 and up.\n",
    "* RP - Rating Pending - Not assigned yet a final rating.\n",
    "* T- Teen - Ages 13 and up."
   ]
  },
  {
   "cell_type": "code",
   "execution_count": 43,
   "metadata": {},
   "outputs": [
    {
     "name": "stdout",
     "output_type": "stream",
     "text": [
      "Number Of Unique Developers:  1696\n",
      "Number Of Unique Publishers:  582\n",
      "Number Of Unique Platforms:  31\n"
     ]
    }
   ],
   "source": [
    "print('Number Of Unique Developers: ',df['Developer'].nunique())\n",
    "print('Number Of Unique Publishers: ',df['Publisher'].nunique())\n",
    "print('Number Of Unique Platforms: ',df['Platform'].nunique())"
   ]
  },
  {
   "cell_type": "code",
   "execution_count": 44,
   "metadata": {},
   "outputs": [
    {
     "data": {
      "text/plain": [
       "Text(0.5, 1.0, 'User Count Distribution - 0 to 5,000 users reviews')"
      ]
     },
     "execution_count": 44,
     "metadata": {},
     "output_type": "execute_result"
    },
    {
     "data": {
      "image/png": "[encoded data removed]",
      "text/plain": [
       "<Figure size 432x288 with 1 Axes>"
      ]
     },
     "metadata": {},
     "output_type": "display_data"
    }
   ],
   "source": [
    "plt.figure(figsize=(6,4))\n",
    "\n",
    "df['User_Count'].plot(kind='hist',color='blue',bins=20,alpha=0.5)\n",
    "plt.xlim([0,5000])\n",
    "plt.title ('User Count Distribution - 0 to 5,000 users reviews')"
   ]
  },
  {
   "cell_type": "code",
   "execution_count": 45,
   "metadata": {},
   "outputs": [
    {
     "data": {
      "text/plain": [
       "Text(0.5, 1.0, 'User Score Distribution')"
      ]
     },
     "execution_count": 45,
     "metadata": {},
     "output_type": "execute_result"
    },
    {
     "data": {
      "image/png": "[encoded data removed]",
      "text/plain": [
       "<Figure size 432x288 with 1 Axes>"
      ]
     },
     "metadata": {},
     "output_type": "display_data"
    }
   ],
   "source": [
    "# User score distirbution\n",
    "\n",
    "df['User_Score'].plot(kind='hist',color='orange',alpha=0.45)\n",
    "plt.title ('User Score Distribution')"
   ]
  },
  {
   "cell_type": "code",
   "execution_count": 46,
   "metadata": {},
   "outputs": [
    {
     "data": {
      "text/plain": [
       "Text(0.5, 1.0, 'Critic Score Distribution')"
      ]
     },
     "execution_count": 46,
     "metadata": {},
     "output_type": "execute_result"
    },
    {
     "data": {
      "image/png": "[encoded data removed]",
      "text/plain": [
       "<Figure size 432x288 with 1 Axes>"
      ]
     },
     "metadata": {},
     "output_type": "display_data"
    }
   ],
   "source": [
    "df['Critic_Score'].plot(kind='hist',bins=20,color='green',alpha=0.5)\n",
    "plt.title ('Critic Score Distribution')"
   ]
  },
  {
   "cell_type": "code",
   "execution_count": 47,
   "metadata": {},
   "outputs": [
    {
     "name": "stdout",
     "output_type": "stream",
     "text": [
      "Average Global Sales for a video game when the developer and publisher are the same:  849473.68\n",
      "Average Global Sales for a video game when the developer and publisher are different companies:  569152.73\n",
      "Percent difference:  149.25 %\n"
     ]
    }
   ],
   "source": [
    "# Average Global Sales for a video game when the developer and publisher are the same.\n",
    "\n",
    "same = round(df[df['Developer'] == df['Publisher']]['Global_Sales'].mean()*1000000,2)\n",
    "different = round(df[(df['Developer'] != df['Publisher']) & (df['Developer'].notnull()) & (df['Publisher'].notnull())]['Global_Sales'].mean()*1000000,2)\n",
    "\n",
    "print('Average Global Sales for a video game when the developer and publisher are the same: ',same)\n",
    "print('Average Global Sales for a video game when the developer and publisher are different companies: ',different)\n",
    "print('Percent difference: ',round(same/different*100,2),'%')"
   ]
  },
  {
   "cell_type": "code",
   "execution_count": 48,
   "metadata": {},
   "outputs": [
    {
     "data": {
      "image/png": "[encoded data removed]",
      "text/plain": [
       "<Figure size 576x288 with 1 Axes>"
      ]
     },
     "metadata": {},
     "output_type": "display_data"
    }
   ],
   "source": [
    "plt.figure(figsize=(8,4))\n",
    "X = ['Yes', 'No']\n",
    "Y = [same,different]\n",
    "plt.bar(X,Y,color='green')\n",
    "plt.ylim([0,900000])\n",
    "plt.title('Average Global Sales In $ - Same Developer And Publisher')\n",
    "plt.ylabel('Gloal Sales In $')\n",
    "plt.show()"
   ]
  },
  {
   "cell_type": "code",
   "execution_count": 49,
   "metadata": {},
   "outputs": [
    {
     "data": {
      "image/png": "[encoded data removed]",
      "text/plain": [
       "<Figure size 576x288 with 1 Axes>"
      ]
     },
     "metadata": {},
     "output_type": "display_data"
    }
   ],
   "source": [
    "# Checking the number of games produced by the same developer and publisher against those produced by different ones.\n",
    "\n",
    "same_publisher_developer_count = df[(df['Developer'] != df['Publisher']) & (df['Developer'].notnull()) & (df['Publisher'].notnull())]['Global_Sales'].count()\n",
    "Different_publihser_developer_count = df[df['Developer'] == df['Publisher']]['Global_Sales'].count()\n",
    "\n",
    "plt.figure(figsize=(8,4))\n",
    "X = ['Same publisher and developer', 'Different publihser and developer']\n",
    "Y = [same_publisher_developer_count,Different_publihser_developer_count]\n",
    "plt.bar(X,Y,color='grey',alpha=0.7)\n",
    "plt.title('Number Of Games')\n",
    "plt.show()"
   ]
  },
  {
   "cell_type": "markdown",
   "metadata": {},
   "source": [
    "# Feature Engineering"
   ]
  },
  {
   "cell_type": "code",
   "execution_count": 50,
   "metadata": {},
   "outputs": [],
   "source": [
    "# Adding a column of user score scale to the data frame.\n",
    "\n",
    "df['User_Score_Scale'] = None\n",
    "df.loc[(df['User_Score'] < 4.),'User_Score_Scale'] = '0-3.99'\n",
    "df.loc[(df['User_Score'] >=4.) & (df['User_Score'] < 6.),'User_Score_Scale'] = '4-5.99'\n",
    "df.loc[(df['User_Score'] >=6.) & (df['User_Score'] < 8.),'User_Score_Scale'] = '6-7.99'\n",
    "df.loc[(df['User_Score'] >=8.),'User_Score_Scale'] = '8-10'"
   ]
  },
  {
   "cell_type": "code",
   "execution_count": 51,
   "metadata": {},
   "outputs": [],
   "source": [
    "# Adding a column of critic score scale to the data frame.\n",
    "\n",
    "df['Critic_Score_Scale'] = None\n",
    "df.loc[(df['Critic_Score'] < 40.),'Critic_Score_Scale'] = '0-39.99'\n",
    "df.loc[(df['Critic_Score'] >=40.) & (df['Critic_Score'] < 60.),'Critic_Score_Scale'] = '40-50.99'\n",
    "df.loc[(df['Critic_Score'] >=60.) & (df['Critic_Score'] < 80.),'Critic_Score_Scale'] = '60-70.99'\n",
    "df.loc[(df['Critic_Score'] >=80.),'Critic_Score_Scale'] = '80-100'"
   ]
  },
  {
   "cell_type": "code",
   "execution_count": 52,
   "metadata": {},
   "outputs": [],
   "source": [
    "# Adding columns of Is_Rated that indicates if a game was rated by the ESRB.\n",
    "\n",
    "df.loc[df.Rating.notnull(), 'Is_Rated'] = 1\n",
    "df.loc[df.Rating.isnull(), 'Is_Rated'] = 0\n",
    "\n",
    "# Adding columns of Was_Criticized that indicates if a game was Criticized by a critic.\n",
    "\n",
    "df.loc[df.Critic_Score.notnull(), 'Was_Criticized'] = 1\n",
    "df.loc[df.Critic_Score.isnull(), 'Was_Criticized'] = 0\n",
    "\n",
    "# Adding columns of Was_Scored_By_Users that indicates if a game was scored by user/users.\n",
    "\n",
    "df.loc[df.User_Score.notnull(), 'Was_Scored_By_Users'] = 1\n",
    "df.loc[df.User_Score.isnull(), 'Was_Scored_By_Users'] = 0"
   ]
  },
  {
   "cell_type": "code",
   "execution_count": 55,
   "metadata": {},
   "outputs": [],
   "source": [
    "# Adding a column that indicated if the developer of a game is also the publisher of the game.\n",
    "\n",
    "df['Same_Developer_And_Publisher']= None\n",
    "df.loc[(df['Developer'] == df['Publisher']),'Same_Developer_And_Publisher'] = 'Yes'\n",
    "df.loc[((df['Developer'] != df['Publisher']) & (df['Developer'].notnull()) & (df['Publisher'].notnull())),'Same_Developer_And_Publisher'] = 'No'"
   ]
  },
  {
   "cell_type": "code",
   "execution_count": 57,
   "metadata": {},
   "outputs": [
    {
     "data": {
      "text/html": [
       "<div>\n",
       "<style scoped>\n",
       "    .dataframe tbody tr th:only-of-type {\n",
       "        vertical-align: middle;\n",
       "    }\n",
       "\n",
       "    .dataframe tbody tr th {\n",
       "        vertical-align: top;\n",
       "    }\n",
       "\n",
       "    .dataframe thead th {\n",
       "        text-align: right;\n",
       "    }\n",
       "</style>\n",
       "<table border=\"1\" class=\"dataframe\">\n",
       "  <thead>\n",
       "    <tr style=\"text-align: right;\">\n",
       "      <th></th>\n",
       "      <th>Name</th>\n",
       "      <th>Platform</th>\n",
       "      <th>Year_of_Release</th>\n",
       "      <th>Genre</th>\n",
       "      <th>Publisher</th>\n",
       "      <th>NA_Sales</th>\n",
       "      <th>EU_Sales</th>\n",
       "      <th>JP_Sales</th>\n",
       "      <th>Other_Sales</th>\n",
       "      <th>Global_Sales</th>\n",
       "      <th>...</th>\n",
       "      <th>User_Score</th>\n",
       "      <th>User_Count</th>\n",
       "      <th>Developer</th>\n",
       "      <th>Rating</th>\n",
       "      <th>User_Score_Scale</th>\n",
       "      <th>Critic_Score_Scale</th>\n",
       "      <th>Is_Rated</th>\n",
       "      <th>Was_Criticized</th>\n",
       "      <th>Was_Scored_By_Users</th>\n",
       "      <th>Same_Developer_And_Publisher</th>\n",
       "    </tr>\n",
       "  </thead>\n",
       "  <tbody>\n",
       "    <tr>\n",
       "      <td>0</td>\n",
       "      <td>Wii Sports</td>\n",
       "      <td>Wii</td>\n",
       "      <td>2006</td>\n",
       "      <td>Sports</td>\n",
       "      <td>Nintendo</td>\n",
       "      <td>41.36</td>\n",
       "      <td>28.96</td>\n",
       "      <td>3.77</td>\n",
       "      <td>8.45</td>\n",
       "      <td>82.54</td>\n",
       "      <td>...</td>\n",
       "      <td>8.0</td>\n",
       "      <td>322</td>\n",
       "      <td>Nintendo</td>\n",
       "      <td>E</td>\n",
       "      <td>8-10</td>\n",
       "      <td>60-70.99</td>\n",
       "      <td>1.0</td>\n",
       "      <td>1.0</td>\n",
       "      <td>1.0</td>\n",
       "      <td>Yes</td>\n",
       "    </tr>\n",
       "    <tr>\n",
       "      <td>1</td>\n",
       "      <td>Super Mario Bros.</td>\n",
       "      <td>NES</td>\n",
       "      <td>1985</td>\n",
       "      <td>Platform</td>\n",
       "      <td>Nintendo</td>\n",
       "      <td>29.08</td>\n",
       "      <td>3.58</td>\n",
       "      <td>6.81</td>\n",
       "      <td>0.77</td>\n",
       "      <td>40.24</td>\n",
       "      <td>...</td>\n",
       "      <td>NaN</td>\n",
       "      <td>NaN</td>\n",
       "      <td>NaN</td>\n",
       "      <td>NaN</td>\n",
       "      <td>None</td>\n",
       "      <td>None</td>\n",
       "      <td>0.0</td>\n",
       "      <td>0.0</td>\n",
       "      <td>0.0</td>\n",
       "      <td>None</td>\n",
       "    </tr>\n",
       "    <tr>\n",
       "      <td>2</td>\n",
       "      <td>Mario Kart Wii</td>\n",
       "      <td>Wii</td>\n",
       "      <td>2008</td>\n",
       "      <td>Racing</td>\n",
       "      <td>Nintendo</td>\n",
       "      <td>15.68</td>\n",
       "      <td>12.76</td>\n",
       "      <td>3.79</td>\n",
       "      <td>3.29</td>\n",
       "      <td>35.52</td>\n",
       "      <td>...</td>\n",
       "      <td>8.3</td>\n",
       "      <td>709</td>\n",
       "      <td>Nintendo</td>\n",
       "      <td>E</td>\n",
       "      <td>8-10</td>\n",
       "      <td>80-100</td>\n",
       "      <td>1.0</td>\n",
       "      <td>1.0</td>\n",
       "      <td>1.0</td>\n",
       "      <td>Yes</td>\n",
       "    </tr>\n",
       "    <tr>\n",
       "      <td>3</td>\n",
       "      <td>Wii Sports Resort</td>\n",
       "      <td>Wii</td>\n",
       "      <td>2009</td>\n",
       "      <td>Sports</td>\n",
       "      <td>Nintendo</td>\n",
       "      <td>15.61</td>\n",
       "      <td>10.93</td>\n",
       "      <td>3.28</td>\n",
       "      <td>2.95</td>\n",
       "      <td>32.77</td>\n",
       "      <td>...</td>\n",
       "      <td>8.0</td>\n",
       "      <td>192</td>\n",
       "      <td>Nintendo</td>\n",
       "      <td>E</td>\n",
       "      <td>8-10</td>\n",
       "      <td>80-100</td>\n",
       "      <td>1.0</td>\n",
       "      <td>1.0</td>\n",
       "      <td>1.0</td>\n",
       "      <td>Yes</td>\n",
       "    </tr>\n",
       "    <tr>\n",
       "      <td>4</td>\n",
       "      <td>Pokemon Red/Pokemon Blue</td>\n",
       "      <td>GB</td>\n",
       "      <td>1996</td>\n",
       "      <td>Role-Playing</td>\n",
       "      <td>Nintendo</td>\n",
       "      <td>11.27</td>\n",
       "      <td>8.89</td>\n",
       "      <td>10.22</td>\n",
       "      <td>1.00</td>\n",
       "      <td>31.38</td>\n",
       "      <td>...</td>\n",
       "      <td>NaN</td>\n",
       "      <td>NaN</td>\n",
       "      <td>NaN</td>\n",
       "      <td>NaN</td>\n",
       "      <td>None</td>\n",
       "      <td>None</td>\n",
       "      <td>0.0</td>\n",
       "      <td>0.0</td>\n",
       "      <td>0.0</td>\n",
       "      <td>None</td>\n",
       "    </tr>\n",
       "  </tbody>\n",
       "</table>\n",
       "<p>5 rows × 22 columns</p>\n",
       "</div>"
      ],
      "text/plain": [
       "                       Name Platform  Year_of_Release         Genre Publisher  \\\n",
       "0                Wii Sports      Wii             2006        Sports  Nintendo   \n",
       "1         Super Mario Bros.      NES             1985      Platform  Nintendo   \n",
       "2            Mario Kart Wii      Wii             2008        Racing  Nintendo   \n",
       "3         Wii Sports Resort      Wii             2009        Sports  Nintendo   \n",
       "4  Pokemon Red/Pokemon Blue       GB             1996  Role-Playing  Nintendo   \n",
       "\n",
       "   NA_Sales  EU_Sales  JP_Sales  Other_Sales  Global_Sales  ...  User_Score  \\\n",
       "0     41.36     28.96      3.77         8.45         82.54  ...         8.0   \n",
       "1     29.08      3.58      6.81         0.77         40.24  ...         NaN   \n",
       "2     15.68     12.76      3.79         3.29         35.52  ...         8.3   \n",
       "3     15.61     10.93      3.28         2.95         32.77  ...         8.0   \n",
       "4     11.27      8.89     10.22         1.00         31.38  ...         NaN   \n",
       "\n",
       "   User_Count  Developer  Rating User_Score_Scale Critic_Score_Scale Is_Rated  \\\n",
       "0         322   Nintendo       E             8-10           60-70.99      1.0   \n",
       "1         NaN        NaN     NaN             None               None      0.0   \n",
       "2         709   Nintendo       E             8-10             80-100      1.0   \n",
       "3         192   Nintendo       E             8-10             80-100      1.0   \n",
       "4         NaN        NaN     NaN             None               None      0.0   \n",
       "\n",
       "  Was_Criticized  Was_Scored_By_Users  Same_Developer_And_Publisher  \n",
       "0            1.0                  1.0                           Yes  \n",
       "1            0.0                  0.0                          None  \n",
       "2            1.0                  1.0                           Yes  \n",
       "3            1.0                  1.0                           Yes  \n",
       "4            0.0                  0.0                          None  \n",
       "\n",
       "[5 rows x 22 columns]"
      ]
     },
     "execution_count": 57,
     "metadata": {},
     "output_type": "execute_result"
    }
   ],
   "source": [
    "df.head()"
   ]
  },
  {
   "cell_type": "code",
   "execution_count": 61,
   "metadata": {},
   "outputs": [
    {
     "name": "stdout",
     "output_type": "stream",
     "text": [
      "Columns Names: \n",
      "_______________\n",
      "\n",
      "Name\n",
      "Platform\n",
      "Year_of_Release\n",
      "Genre\n",
      "Publisher\n",
      "NA_Sales\n",
      "EU_Sales\n",
      "JP_Sales\n",
      "Other_Sales\n",
      "Global_Sales\n",
      "Critic_Score\n",
      "Critic_Count\n",
      "User_Score\n",
      "User_Count\n",
      "Developer\n",
      "Rating\n",
      "User_Score_Scale\n",
      "Critic_Score_Scale\n",
      "Is_Rated\n",
      "Was_Criticized\n",
      "Was_Scored_By_Users\n",
      "Same_Developer_And_Publisher\n"
     ]
    }
   ],
   "source": [
    "print('Columns Names: ')\n",
    "print('_______________')\n",
    "print()\n",
    "\n",
    "for i in df.columns:\n",
    "    print(i)"
   ]
  },
  {
   "cell_type": "markdown",
   "metadata": {},
   "source": [
    "# Data Exploration For Scale Columns"
   ]
  },
  {
   "cell_type": "code",
   "execution_count": 62,
   "metadata": {},
   "outputs": [
    {
     "data": {
      "text/plain": [
       "Text(0.5, 0, 'User Score Scale')"
      ]
     },
     "execution_count": 62,
     "metadata": {},
     "output_type": "execute_result"
    },
    {
     "data": {
      "image/png": "[encoded data removed]",
      "text/plain": [
       "<Figure size 432x288 with 1 Axes>"
      ]
     },
     "metadata": {},
     "output_type": "display_data"
    }
   ],
   "source": [
    "df.groupby('User_Score_Scale').Global_Sales.mean().plot(kind='bar',color='green',alpha=0.5)\n",
    "plt.title('Average Global_Sales By User Score')\n",
    "plt.ylabel('Global Sales')\n",
    "plt.xlabel('User Score Scale')"
   ]
  },
  {
   "cell_type": "code",
   "execution_count": 63,
   "metadata": {},
   "outputs": [
    {
     "data": {
      "text/plain": [
       "Text(0.5, 0, 'Critic Score Scale')"
      ]
     },
     "execution_count": 63,
     "metadata": {},
     "output_type": "execute_result"
    },
    {
     "data": {
      "image/png": "[encoded data removed]",
      "text/plain": [
       "<Figure size 432x288 with 1 Axes>"
      ]
     },
     "metadata": {},
     "output_type": "display_data"
    }
   ],
   "source": [
    "df.groupby('Critic_Score_Scale').Global_Sales.mean().plot(kind='bar',color='green',alpha=0.5)\n",
    "plt.title('Average Global_Sales By Critic Score')\n",
    "plt.ylabel('Global Sales')\n",
    "plt.xlabel('Critic Score Scale')"
   ]
  },
  {
   "cell_type": "code",
   "execution_count": 64,
   "metadata": {},
   "outputs": [
    {
     "data": {
      "text/plain": [
       "(13.0, 0.0)"
      ]
     },
     "execution_count": 64,
     "metadata": {},
     "output_type": "execute_result"
    },
    {
     "data": {
      "image/png": "[encoded data removed]",
      "text/plain": [
       "<Figure size 1152x504 with 2 Axes>"
      ]
     },
     "metadata": {},
     "output_type": "display_data"
    }
   ],
   "source": [
    "# The following columns show a very high correlation: Was_Scored_By_Users, Is_Rated, and Was_Criticized.\n",
    "\n",
    "plt.figure(figsize=(16,7))\n",
    "plt.title('Heat Map')\n",
    "\n",
    "\n",
    "ax = sns.heatmap(df.corr(),cmap='coolwarm',linecolor='black',linewidth=0.05,annot=True)\n",
    "\n",
    "ax.set_ylim(sorted(ax.get_xlim(), reverse=True))"
   ]
  },
  {
   "cell_type": "markdown",
   "metadata": {},
   "source": [
    "# Exporting to CSV file"
   ]
  },
  {
   "cell_type": "code",
   "execution_count": 65,
   "metadata": {},
   "outputs": [
    {
     "data": {
      "text/html": [
       "<div>\n",
       "<style scoped>\n",
       "    .dataframe tbody tr th:only-of-type {\n",
       "        vertical-align: middle;\n",
       "    }\n",
       "\n",
       "    .dataframe tbody tr th {\n",
       "        vertical-align: top;\n",
       "    }\n",
       "\n",
       "    .dataframe thead th {\n",
       "        text-align: right;\n",
       "    }\n",
       "</style>\n",
       "<table border=\"1\" class=\"dataframe\">\n",
       "  <thead>\n",
       "    <tr style=\"text-align: right;\">\n",
       "      <th></th>\n",
       "      <th>Name</th>\n",
       "      <th>Platform</th>\n",
       "      <th>Year_of_Release</th>\n",
       "      <th>Genre</th>\n",
       "      <th>Publisher</th>\n",
       "      <th>NA_Sales</th>\n",
       "      <th>EU_Sales</th>\n",
       "      <th>JP_Sales</th>\n",
       "      <th>Other_Sales</th>\n",
       "      <th>Global_Sales</th>\n",
       "      <th>...</th>\n",
       "      <th>User_Score</th>\n",
       "      <th>User_Count</th>\n",
       "      <th>Developer</th>\n",
       "      <th>Rating</th>\n",
       "      <th>User_Score_Scale</th>\n",
       "      <th>Critic_Score_Scale</th>\n",
       "      <th>Is_Rated</th>\n",
       "      <th>Was_Criticized</th>\n",
       "      <th>Was_Scored_By_Users</th>\n",
       "      <th>Same_Developer_And_Publisher</th>\n",
       "    </tr>\n",
       "  </thead>\n",
       "  <tbody>\n",
       "    <tr>\n",
       "      <td>0</td>\n",
       "      <td>Wii Sports</td>\n",
       "      <td>Wii</td>\n",
       "      <td>2006</td>\n",
       "      <td>Sports</td>\n",
       "      <td>Nintendo</td>\n",
       "      <td>41.36</td>\n",
       "      <td>28.96</td>\n",
       "      <td>3.77</td>\n",
       "      <td>8.45</td>\n",
       "      <td>82.54</td>\n",
       "      <td>...</td>\n",
       "      <td>8.0</td>\n",
       "      <td>322</td>\n",
       "      <td>Nintendo</td>\n",
       "      <td>E</td>\n",
       "      <td>8-10</td>\n",
       "      <td>60-70.99</td>\n",
       "      <td>1.0</td>\n",
       "      <td>1.0</td>\n",
       "      <td>1.0</td>\n",
       "      <td>Yes</td>\n",
       "    </tr>\n",
       "    <tr>\n",
       "      <td>1</td>\n",
       "      <td>Super Mario Bros.</td>\n",
       "      <td>NES</td>\n",
       "      <td>1985</td>\n",
       "      <td>Platform</td>\n",
       "      <td>Nintendo</td>\n",
       "      <td>29.08</td>\n",
       "      <td>3.58</td>\n",
       "      <td>6.81</td>\n",
       "      <td>0.77</td>\n",
       "      <td>40.24</td>\n",
       "      <td>...</td>\n",
       "      <td>NaN</td>\n",
       "      <td>NaN</td>\n",
       "      <td>NaN</td>\n",
       "      <td>NaN</td>\n",
       "      <td>None</td>\n",
       "      <td>None</td>\n",
       "      <td>0.0</td>\n",
       "      <td>0.0</td>\n",
       "      <td>0.0</td>\n",
       "      <td>None</td>\n",
       "    </tr>\n",
       "    <tr>\n",
       "      <td>2</td>\n",
       "      <td>Mario Kart Wii</td>\n",
       "      <td>Wii</td>\n",
       "      <td>2008</td>\n",
       "      <td>Racing</td>\n",
       "      <td>Nintendo</td>\n",
       "      <td>15.68</td>\n",
       "      <td>12.76</td>\n",
       "      <td>3.79</td>\n",
       "      <td>3.29</td>\n",
       "      <td>35.52</td>\n",
       "      <td>...</td>\n",
       "      <td>8.3</td>\n",
       "      <td>709</td>\n",
       "      <td>Nintendo</td>\n",
       "      <td>E</td>\n",
       "      <td>8-10</td>\n",
       "      <td>80-100</td>\n",
       "      <td>1.0</td>\n",
       "      <td>1.0</td>\n",
       "      <td>1.0</td>\n",
       "      <td>Yes</td>\n",
       "    </tr>\n",
       "    <tr>\n",
       "      <td>3</td>\n",
       "      <td>Wii Sports Resort</td>\n",
       "      <td>Wii</td>\n",
       "      <td>2009</td>\n",
       "      <td>Sports</td>\n",
       "      <td>Nintendo</td>\n",
       "      <td>15.61</td>\n",
       "      <td>10.93</td>\n",
       "      <td>3.28</td>\n",
       "      <td>2.95</td>\n",
       "      <td>32.77</td>\n",
       "      <td>...</td>\n",
       "      <td>8.0</td>\n",
       "      <td>192</td>\n",
       "      <td>Nintendo</td>\n",
       "      <td>E</td>\n",
       "      <td>8-10</td>\n",
       "      <td>80-100</td>\n",
       "      <td>1.0</td>\n",
       "      <td>1.0</td>\n",
       "      <td>1.0</td>\n",
       "      <td>Yes</td>\n",
       "    </tr>\n",
       "    <tr>\n",
       "      <td>4</td>\n",
       "      <td>Pokemon Red/Pokemon Blue</td>\n",
       "      <td>GB</td>\n",
       "      <td>1996</td>\n",
       "      <td>Role-Playing</td>\n",
       "      <td>Nintendo</td>\n",
       "      <td>11.27</td>\n",
       "      <td>8.89</td>\n",
       "      <td>10.22</td>\n",
       "      <td>1.00</td>\n",
       "      <td>31.38</td>\n",
       "      <td>...</td>\n",
       "      <td>NaN</td>\n",
       "      <td>NaN</td>\n",
       "      <td>NaN</td>\n",
       "      <td>NaN</td>\n",
       "      <td>None</td>\n",
       "      <td>None</td>\n",
       "      <td>0.0</td>\n",
       "      <td>0.0</td>\n",
       "      <td>0.0</td>\n",
       "      <td>None</td>\n",
       "    </tr>\n",
       "  </tbody>\n",
       "</table>\n",
       "<p>5 rows × 22 columns</p>\n",
       "</div>"
      ],
      "text/plain": [
       "                       Name Platform  Year_of_Release         Genre Publisher  \\\n",
       "0                Wii Sports      Wii             2006        Sports  Nintendo   \n",
       "1         Super Mario Bros.      NES             1985      Platform  Nintendo   \n",
       "2            Mario Kart Wii      Wii             2008        Racing  Nintendo   \n",
       "3         Wii Sports Resort      Wii             2009        Sports  Nintendo   \n",
       "4  Pokemon Red/Pokemon Blue       GB             1996  Role-Playing  Nintendo   \n",
       "\n",
       "   NA_Sales  EU_Sales  JP_Sales  Other_Sales  Global_Sales  ...  User_Score  \\\n",
       "0     41.36     28.96      3.77         8.45         82.54  ...         8.0   \n",
       "1     29.08      3.58      6.81         0.77         40.24  ...         NaN   \n",
       "2     15.68     12.76      3.79         3.29         35.52  ...         8.3   \n",
       "3     15.61     10.93      3.28         2.95         32.77  ...         8.0   \n",
       "4     11.27      8.89     10.22         1.00         31.38  ...         NaN   \n",
       "\n",
       "   User_Count  Developer  Rating User_Score_Scale Critic_Score_Scale Is_Rated  \\\n",
       "0         322   Nintendo       E             8-10           60-70.99      1.0   \n",
       "1         NaN        NaN     NaN             None               None      0.0   \n",
       "2         709   Nintendo       E             8-10             80-100      1.0   \n",
       "3         192   Nintendo       E             8-10             80-100      1.0   \n",
       "4         NaN        NaN     NaN             None               None      0.0   \n",
       "\n",
       "  Was_Criticized  Was_Scored_By_Users  Same_Developer_And_Publisher  \n",
       "0            1.0                  1.0                           Yes  \n",
       "1            0.0                  0.0                          None  \n",
       "2            1.0                  1.0                           Yes  \n",
       "3            1.0                  1.0                           Yes  \n",
       "4            0.0                  0.0                          None  \n",
       "\n",
       "[5 rows x 22 columns]"
      ]
     },
     "execution_count": 65,
     "metadata": {},
     "output_type": "execute_result"
    }
   ],
   "source": [
    "df.head()"
   ]
  },
  {
   "cell_type": "code",
   "execution_count": 66,
   "metadata": {},
   "outputs": [],
   "source": [
    "# Exporting to CSV file\n",
    "\n",
    "df.to_csv('Video Games Edited By Python.csv', index = False)"
   ]
  }
 ],
 "metadata": {
  "kernelspec": {
   "display_name": "Python 3",
   "language": "python",
   "name": "python3"
  },
  "language_info": {
   "codemirror_mode": {
    "name": "ipython",
    "version": 3
   },
   "file_extension": ".py",
   "mimetype": "text/x-python",
   "name": "python",
   "nbconvert_exporter": "python",
   "pygments_lexer": "ipython3",
   "version": "3.7.4"
  }
 },
 "nbformat": 4,
 "nbformat_minor": 2
}
